{
 "cells": [
  {
   "cell_type": "code",
   "execution_count": 1,
   "metadata": {},
   "outputs": [
    {
     "name": "stdout",
     "output_type": "stream",
     "text": [
      "Requirement already satisfied: scikit-learn in c:\\users\\anirudh saxena\\anaconda3\\lib\\site-packages (1.0)\n",
      "Requirement already satisfied: scipy>=1.1.0 in c:\\users\\anirudh saxena\\anaconda3\\lib\\site-packages (from scikit-learn) (1.6.2)\n",
      "Requirement already satisfied: threadpoolctl>=2.0.0 in c:\\users\\anirudh saxena\\anaconda3\\lib\\site-packages (from scikit-learn) (2.1.0)\n",
      "Requirement already satisfied: joblib>=0.11 in c:\\users\\anirudh saxena\\anaconda3\\lib\\site-packages (from scikit-learn) (1.0.1)\n",
      "Requirement already satisfied: numpy>=1.14.6 in c:\\users\\anirudh saxena\\anaconda3\\lib\\site-packages (from scikit-learn) (1.20.1)\n"
     ]
    }
   ],
   "source": [
    "!pip install -U scikit-learn"
   ]
  },
  {
   "cell_type": "markdown",
   "metadata": {},
   "source": [
    "# INSTALLING IMPORTANT LIBRARIES FOR MODELLING"
   ]
  },
  {
   "cell_type": "code",
   "execution_count": 1,
   "metadata": {},
   "outputs": [],
   "source": [
    "import pandas as pd\n",
    "import numpy as np\n",
    "import matplotlib.pyplot as plt\n",
    "from sklearn.model_selection import TimeSeriesSplit\n",
    "from sklearn.model_selection import train_test_split\n",
    "from sklearn.linear_model import LinearRegression  \n",
    "import math\n",
    "from sklearn import metrics\n",
    "from sklearn.ensemble import RandomForestRegressor\n",
    "from sklearn.ensemble import AdaBoostRegressor"
   ]
  },
  {
   "cell_type": "code",
   "execution_count": 2,
   "metadata": {},
   "outputs": [
    {
     "name": "stdout",
     "output_type": "stream",
     "text": [
      "^C\n"
     ]
    }
   ],
   "source": [
    "!pip install pickle-mixin"
   ]
  },
  {
   "cell_type": "code",
   "execution_count": 1,
   "metadata": {},
   "outputs": [
    {
     "name": "stderr",
     "output_type": "stream",
     "text": [
      "ERROR: Could not find a version that satisfies the requirement pickle (from versions: none)\n",
      "ERROR: No matching distribution found for pickle\n"
     ]
    }
   ],
   "source": [
    "!pip install pickle"
   ]
  },
  {
   "cell_type": "code",
   "execution_count": 2,
   "metadata": {},
   "outputs": [],
   "source": [
    "import pickle"
   ]
  },
  {
   "cell_type": "code",
   "execution_count": 3,
   "metadata": {},
   "outputs": [],
   "source": [
    "tscv = TimeSeriesSplit()"
   ]
  },
  {
   "cell_type": "code",
   "execution_count": 6,
   "metadata": {},
   "outputs": [
    {
     "data": {
      "text/plain": [
       "'C:\\\\Users\\\\sowmy\\\\Desktop'"
      ]
     },
     "execution_count": 6,
     "metadata": {},
     "output_type": "execute_result"
    }
   ],
   "source": [
    "pwd"
   ]
  },
  {
   "cell_type": "markdown",
   "metadata": {},
   "source": [
    "## READING THE DATA"
   ]
  },
  {
   "cell_type": "code",
   "execution_count": 7,
   "metadata": {},
   "outputs": [
    {
     "data": {
      "text/html": [
       "<div>\n",
       "<style scoped>\n",
       "    .dataframe tbody tr th:only-of-type {\n",
       "        vertical-align: middle;\n",
       "    }\n",
       "\n",
       "    .dataframe tbody tr th {\n",
       "        vertical-align: top;\n",
       "    }\n",
       "\n",
       "    .dataframe thead th {\n",
       "        text-align: right;\n",
       "    }\n",
       "</style>\n",
       "<table border=\"1\" class=\"dataframe\">\n",
       "  <thead>\n",
       "    <tr style=\"text-align: right;\">\n",
       "      <th></th>\n",
       "      <th>Year</th>\n",
       "      <th>Month</th>\n",
       "      <th>Day</th>\n",
       "      <th>StockName</th>\n",
       "      <th>Positive</th>\n",
       "      <th>Negative</th>\n",
       "      <th>Neutral</th>\n",
       "      <th>Total Tweets</th>\n",
       "      <th>Close</th>\n",
       "      <th>Volume</th>\n",
       "      <th>Open</th>\n",
       "      <th>High</th>\n",
       "      <th>Low</th>\n",
       "      <th>Day_of_week</th>\n",
       "    </tr>\n",
       "  </thead>\n",
       "  <tbody>\n",
       "    <tr>\n",
       "      <th>0</th>\n",
       "      <td>2020</td>\n",
       "      <td>1</td>\n",
       "      <td>1</td>\n",
       "      <td>apple</td>\n",
       "      <td>10</td>\n",
       "      <td>2</td>\n",
       "      <td>8</td>\n",
       "      <td>20</td>\n",
       "      <td>75.0875</td>\n",
       "      <td>135647440.0</td>\n",
       "      <td>74.0600</td>\n",
       "      <td>75.1500</td>\n",
       "      <td>73.7975</td>\n",
       "      <td>Wednesday</td>\n",
       "    </tr>\n",
       "    <tr>\n",
       "      <th>1</th>\n",
       "      <td>2020</td>\n",
       "      <td>1</td>\n",
       "      <td>1</td>\n",
       "      <td>microsoft</td>\n",
       "      <td>9</td>\n",
       "      <td>0</td>\n",
       "      <td>11</td>\n",
       "      <td>20</td>\n",
       "      <td>160.6200</td>\n",
       "      <td>22634550.0</td>\n",
       "      <td>158.7800</td>\n",
       "      <td>160.7300</td>\n",
       "      <td>158.3300</td>\n",
       "      <td>Wednesday</td>\n",
       "    </tr>\n",
       "    <tr>\n",
       "      <th>2</th>\n",
       "      <td>2020</td>\n",
       "      <td>1</td>\n",
       "      <td>1</td>\n",
       "      <td>tesla</td>\n",
       "      <td>17</td>\n",
       "      <td>3</td>\n",
       "      <td>3</td>\n",
       "      <td>23</td>\n",
       "      <td>86.0520</td>\n",
       "      <td>47791930.0</td>\n",
       "      <td>84.9000</td>\n",
       "      <td>86.1391</td>\n",
       "      <td>84.3420</td>\n",
       "      <td>Wednesday</td>\n",
       "    </tr>\n",
       "    <tr>\n",
       "      <th>3</th>\n",
       "      <td>2020</td>\n",
       "      <td>1</td>\n",
       "      <td>1</td>\n",
       "      <td>nvidia</td>\n",
       "      <td>1</td>\n",
       "      <td>0</td>\n",
       "      <td>0</td>\n",
       "      <td>1</td>\n",
       "      <td>59.9775</td>\n",
       "      <td>23767876.0</td>\n",
       "      <td>59.6875</td>\n",
       "      <td>59.9775</td>\n",
       "      <td>59.1800</td>\n",
       "      <td>Wednesday</td>\n",
       "    </tr>\n",
       "    <tr>\n",
       "      <th>4</th>\n",
       "      <td>2020</td>\n",
       "      <td>1</td>\n",
       "      <td>1</td>\n",
       "      <td>paypal</td>\n",
       "      <td>1</td>\n",
       "      <td>0</td>\n",
       "      <td>1</td>\n",
       "      <td>2</td>\n",
       "      <td>110.7500</td>\n",
       "      <td>7419283.0</td>\n",
       "      <td>109.4700</td>\n",
       "      <td>111.2100</td>\n",
       "      <td>109.2750</td>\n",
       "      <td>Wednesday</td>\n",
       "    </tr>\n",
       "    <tr>\n",
       "      <th>...</th>\n",
       "      <td>...</td>\n",
       "      <td>...</td>\n",
       "      <td>...</td>\n",
       "      <td>...</td>\n",
       "      <td>...</td>\n",
       "      <td>...</td>\n",
       "      <td>...</td>\n",
       "      <td>...</td>\n",
       "      <td>...</td>\n",
       "      <td>...</td>\n",
       "      <td>...</td>\n",
       "      <td>...</td>\n",
       "      <td>...</td>\n",
       "      <td>...</td>\n",
       "    </tr>\n",
       "    <tr>\n",
       "      <th>2978</th>\n",
       "      <td>2021</td>\n",
       "      <td>9</td>\n",
       "      <td>20</td>\n",
       "      <td>tesla</td>\n",
       "      <td>61</td>\n",
       "      <td>21</td>\n",
       "      <td>39</td>\n",
       "      <td>121</td>\n",
       "      <td>730.1700</td>\n",
       "      <td>24757650.0</td>\n",
       "      <td>734.5577</td>\n",
       "      <td>742.0000</td>\n",
       "      <td>718.6249</td>\n",
       "      <td>Monday</td>\n",
       "    </tr>\n",
       "    <tr>\n",
       "      <th>2979</th>\n",
       "      <td>2021</td>\n",
       "      <td>9</td>\n",
       "      <td>20</td>\n",
       "      <td>nvidia</td>\n",
       "      <td>3</td>\n",
       "      <td>4</td>\n",
       "      <td>3</td>\n",
       "      <td>10</td>\n",
       "      <td>211.1300</td>\n",
       "      <td>34944050.0</td>\n",
       "      <td>211.4600</td>\n",
       "      <td>214.3300</td>\n",
       "      <td>206.6200</td>\n",
       "      <td>Monday</td>\n",
       "    </tr>\n",
       "    <tr>\n",
       "      <th>2980</th>\n",
       "      <td>2021</td>\n",
       "      <td>9</td>\n",
       "      <td>20</td>\n",
       "      <td>paypal</td>\n",
       "      <td>1</td>\n",
       "      <td>1</td>\n",
       "      <td>2</td>\n",
       "      <td>4</td>\n",
       "      <td>269.9100</td>\n",
       "      <td>7728307.0</td>\n",
       "      <td>271.5500</td>\n",
       "      <td>273.0000</td>\n",
       "      <td>265.6800</td>\n",
       "      <td>Monday</td>\n",
       "    </tr>\n",
       "    <tr>\n",
       "      <th>2981</th>\n",
       "      <td>2021</td>\n",
       "      <td>9</td>\n",
       "      <td>21</td>\n",
       "      <td>nvidia</td>\n",
       "      <td>4</td>\n",
       "      <td>4</td>\n",
       "      <td>1</td>\n",
       "      <td>9</td>\n",
       "      <td>212.4600</td>\n",
       "      <td>20468810.0</td>\n",
       "      <td>214.1650</td>\n",
       "      <td>214.2500</td>\n",
       "      <td>209.5000</td>\n",
       "      <td>Tuesday</td>\n",
       "    </tr>\n",
       "    <tr>\n",
       "      <th>2982</th>\n",
       "      <td>2021</td>\n",
       "      <td>9</td>\n",
       "      <td>21</td>\n",
       "      <td>paypal</td>\n",
       "      <td>3</td>\n",
       "      <td>3</td>\n",
       "      <td>2</td>\n",
       "      <td>8</td>\n",
       "      <td>269.4900</td>\n",
       "      <td>4326076.0</td>\n",
       "      <td>271.7500</td>\n",
       "      <td>272.2986</td>\n",
       "      <td>267.8000</td>\n",
       "      <td>Tuesday</td>\n",
       "    </tr>\n",
       "  </tbody>\n",
       "</table>\n",
       "<p>2983 rows × 14 columns</p>\n",
       "</div>"
      ],
      "text/plain": [
       "      Year  Month  Day  StockName  Positive  Negative  Neutral  Total Tweets  \\\n",
       "0     2020      1    1      apple        10         2        8            20   \n",
       "1     2020      1    1  microsoft         9         0       11            20   \n",
       "2     2020      1    1      tesla        17         3        3            23   \n",
       "3     2020      1    1     nvidia         1         0        0             1   \n",
       "4     2020      1    1     paypal         1         0        1             2   \n",
       "...    ...    ...  ...        ...       ...       ...      ...           ...   \n",
       "2978  2021      9   20      tesla        61        21       39           121   \n",
       "2979  2021      9   20     nvidia         3         4        3            10   \n",
       "2980  2021      9   20     paypal         1         1        2             4   \n",
       "2981  2021      9   21     nvidia         4         4        1             9   \n",
       "2982  2021      9   21     paypal         3         3        2             8   \n",
       "\n",
       "         Close       Volume      Open      High       Low Day_of_week  \n",
       "0      75.0875  135647440.0   74.0600   75.1500   73.7975   Wednesday  \n",
       "1     160.6200   22634550.0  158.7800  160.7300  158.3300   Wednesday  \n",
       "2      86.0520   47791930.0   84.9000   86.1391   84.3420   Wednesday  \n",
       "3      59.9775   23767876.0   59.6875   59.9775   59.1800   Wednesday  \n",
       "4     110.7500    7419283.0  109.4700  111.2100  109.2750   Wednesday  \n",
       "...        ...          ...       ...       ...       ...         ...  \n",
       "2978  730.1700   24757650.0  734.5577  742.0000  718.6249      Monday  \n",
       "2979  211.1300   34944050.0  211.4600  214.3300  206.6200      Monday  \n",
       "2980  269.9100    7728307.0  271.5500  273.0000  265.6800      Monday  \n",
       "2981  212.4600   20468810.0  214.1650  214.2500  209.5000     Tuesday  \n",
       "2982  269.4900    4326076.0  271.7500  272.2986  267.8000     Tuesday  \n",
       "\n",
       "[2983 rows x 14 columns]"
      ]
     },
     "execution_count": 7,
     "metadata": {},
     "output_type": "execute_result"
    }
   ],
   "source": [
    "df = pd.read_csv(\"Twitter_stock_final_dataset (1).csv\")\n",
    "df"
   ]
  },
  {
   "cell_type": "code",
   "execution_count": 8,
   "metadata": {},
   "outputs": [
    {
     "data": {
      "text/html": [
       "<div>\n",
       "<style scoped>\n",
       "    .dataframe tbody tr th:only-of-type {\n",
       "        vertical-align: middle;\n",
       "    }\n",
       "\n",
       "    .dataframe tbody tr th {\n",
       "        vertical-align: top;\n",
       "    }\n",
       "\n",
       "    .dataframe thead th {\n",
       "        text-align: right;\n",
       "    }\n",
       "</style>\n",
       "<table border=\"1\" class=\"dataframe\">\n",
       "  <thead>\n",
       "    <tr style=\"text-align: right;\">\n",
       "      <th></th>\n",
       "      <th>Year</th>\n",
       "      <th>Month</th>\n",
       "      <th>Day</th>\n",
       "      <th>StockName</th>\n",
       "      <th>Positive</th>\n",
       "      <th>Negative</th>\n",
       "      <th>Neutral</th>\n",
       "      <th>Total Tweets</th>\n",
       "      <th>Close</th>\n",
       "      <th>Volume</th>\n",
       "      <th>Open</th>\n",
       "      <th>High</th>\n",
       "      <th>Low</th>\n",
       "      <th>Day_of_week</th>\n",
       "    </tr>\n",
       "  </thead>\n",
       "  <tbody>\n",
       "    <tr>\n",
       "      <th>0</th>\n",
       "      <td>2020</td>\n",
       "      <td>1</td>\n",
       "      <td>1</td>\n",
       "      <td>apple</td>\n",
       "      <td>10</td>\n",
       "      <td>2</td>\n",
       "      <td>8</td>\n",
       "      <td>20</td>\n",
       "      <td>75.0875</td>\n",
       "      <td>135647440.0</td>\n",
       "      <td>74.0600</td>\n",
       "      <td>75.1500</td>\n",
       "      <td>73.7975</td>\n",
       "      <td>Wednesday</td>\n",
       "    </tr>\n",
       "    <tr>\n",
       "      <th>1</th>\n",
       "      <td>2020</td>\n",
       "      <td>1</td>\n",
       "      <td>1</td>\n",
       "      <td>microsoft</td>\n",
       "      <td>9</td>\n",
       "      <td>0</td>\n",
       "      <td>11</td>\n",
       "      <td>20</td>\n",
       "      <td>160.6200</td>\n",
       "      <td>22634550.0</td>\n",
       "      <td>158.7800</td>\n",
       "      <td>160.7300</td>\n",
       "      <td>158.3300</td>\n",
       "      <td>Wednesday</td>\n",
       "    </tr>\n",
       "    <tr>\n",
       "      <th>2</th>\n",
       "      <td>2020</td>\n",
       "      <td>1</td>\n",
       "      <td>1</td>\n",
       "      <td>tesla</td>\n",
       "      <td>17</td>\n",
       "      <td>3</td>\n",
       "      <td>3</td>\n",
       "      <td>23</td>\n",
       "      <td>86.0520</td>\n",
       "      <td>47791930.0</td>\n",
       "      <td>84.9000</td>\n",
       "      <td>86.1391</td>\n",
       "      <td>84.3420</td>\n",
       "      <td>Wednesday</td>\n",
       "    </tr>\n",
       "    <tr>\n",
       "      <th>3</th>\n",
       "      <td>2020</td>\n",
       "      <td>1</td>\n",
       "      <td>1</td>\n",
       "      <td>nvidia</td>\n",
       "      <td>1</td>\n",
       "      <td>0</td>\n",
       "      <td>0</td>\n",
       "      <td>1</td>\n",
       "      <td>59.9775</td>\n",
       "      <td>23767876.0</td>\n",
       "      <td>59.6875</td>\n",
       "      <td>59.9775</td>\n",
       "      <td>59.1800</td>\n",
       "      <td>Wednesday</td>\n",
       "    </tr>\n",
       "    <tr>\n",
       "      <th>4</th>\n",
       "      <td>2020</td>\n",
       "      <td>1</td>\n",
       "      <td>1</td>\n",
       "      <td>paypal</td>\n",
       "      <td>1</td>\n",
       "      <td>0</td>\n",
       "      <td>1</td>\n",
       "      <td>2</td>\n",
       "      <td>110.7500</td>\n",
       "      <td>7419283.0</td>\n",
       "      <td>109.4700</td>\n",
       "      <td>111.2100</td>\n",
       "      <td>109.2750</td>\n",
       "      <td>Wednesday</td>\n",
       "    </tr>\n",
       "    <tr>\n",
       "      <th>...</th>\n",
       "      <td>...</td>\n",
       "      <td>...</td>\n",
       "      <td>...</td>\n",
       "      <td>...</td>\n",
       "      <td>...</td>\n",
       "      <td>...</td>\n",
       "      <td>...</td>\n",
       "      <td>...</td>\n",
       "      <td>...</td>\n",
       "      <td>...</td>\n",
       "      <td>...</td>\n",
       "      <td>...</td>\n",
       "      <td>...</td>\n",
       "      <td>...</td>\n",
       "    </tr>\n",
       "    <tr>\n",
       "      <th>2978</th>\n",
       "      <td>2021</td>\n",
       "      <td>9</td>\n",
       "      <td>20</td>\n",
       "      <td>tesla</td>\n",
       "      <td>61</td>\n",
       "      <td>21</td>\n",
       "      <td>39</td>\n",
       "      <td>121</td>\n",
       "      <td>730.1700</td>\n",
       "      <td>24757650.0</td>\n",
       "      <td>734.5577</td>\n",
       "      <td>742.0000</td>\n",
       "      <td>718.6249</td>\n",
       "      <td>Monday</td>\n",
       "    </tr>\n",
       "    <tr>\n",
       "      <th>2979</th>\n",
       "      <td>2021</td>\n",
       "      <td>9</td>\n",
       "      <td>20</td>\n",
       "      <td>nvidia</td>\n",
       "      <td>3</td>\n",
       "      <td>4</td>\n",
       "      <td>3</td>\n",
       "      <td>10</td>\n",
       "      <td>211.1300</td>\n",
       "      <td>34944050.0</td>\n",
       "      <td>211.4600</td>\n",
       "      <td>214.3300</td>\n",
       "      <td>206.6200</td>\n",
       "      <td>Monday</td>\n",
       "    </tr>\n",
       "    <tr>\n",
       "      <th>2980</th>\n",
       "      <td>2021</td>\n",
       "      <td>9</td>\n",
       "      <td>20</td>\n",
       "      <td>paypal</td>\n",
       "      <td>1</td>\n",
       "      <td>1</td>\n",
       "      <td>2</td>\n",
       "      <td>4</td>\n",
       "      <td>269.9100</td>\n",
       "      <td>7728307.0</td>\n",
       "      <td>271.5500</td>\n",
       "      <td>273.0000</td>\n",
       "      <td>265.6800</td>\n",
       "      <td>Monday</td>\n",
       "    </tr>\n",
       "    <tr>\n",
       "      <th>2981</th>\n",
       "      <td>2021</td>\n",
       "      <td>9</td>\n",
       "      <td>21</td>\n",
       "      <td>nvidia</td>\n",
       "      <td>4</td>\n",
       "      <td>4</td>\n",
       "      <td>1</td>\n",
       "      <td>9</td>\n",
       "      <td>212.4600</td>\n",
       "      <td>20468810.0</td>\n",
       "      <td>214.1650</td>\n",
       "      <td>214.2500</td>\n",
       "      <td>209.5000</td>\n",
       "      <td>Tuesday</td>\n",
       "    </tr>\n",
       "    <tr>\n",
       "      <th>2982</th>\n",
       "      <td>2021</td>\n",
       "      <td>9</td>\n",
       "      <td>21</td>\n",
       "      <td>paypal</td>\n",
       "      <td>3</td>\n",
       "      <td>3</td>\n",
       "      <td>2</td>\n",
       "      <td>8</td>\n",
       "      <td>269.4900</td>\n",
       "      <td>4326076.0</td>\n",
       "      <td>271.7500</td>\n",
       "      <td>272.2986</td>\n",
       "      <td>267.8000</td>\n",
       "      <td>Tuesday</td>\n",
       "    </tr>\n",
       "  </tbody>\n",
       "</table>\n",
       "<p>2983 rows × 14 columns</p>\n",
       "</div>"
      ],
      "text/plain": [
       "      Year  Month  Day  StockName  Positive  Negative  Neutral  Total Tweets  \\\n",
       "0     2020      1    1      apple        10         2        8            20   \n",
       "1     2020      1    1  microsoft         9         0       11            20   \n",
       "2     2020      1    1      tesla        17         3        3            23   \n",
       "3     2020      1    1     nvidia         1         0        0             1   \n",
       "4     2020      1    1     paypal         1         0        1             2   \n",
       "...    ...    ...  ...        ...       ...       ...      ...           ...   \n",
       "2978  2021      9   20      tesla        61        21       39           121   \n",
       "2979  2021      9   20     nvidia         3         4        3            10   \n",
       "2980  2021      9   20     paypal         1         1        2             4   \n",
       "2981  2021      9   21     nvidia         4         4        1             9   \n",
       "2982  2021      9   21     paypal         3         3        2             8   \n",
       "\n",
       "         Close       Volume      Open      High       Low Day_of_week  \n",
       "0      75.0875  135647440.0   74.0600   75.1500   73.7975   Wednesday  \n",
       "1     160.6200   22634550.0  158.7800  160.7300  158.3300   Wednesday  \n",
       "2      86.0520   47791930.0   84.9000   86.1391   84.3420   Wednesday  \n",
       "3      59.9775   23767876.0   59.6875   59.9775   59.1800   Wednesday  \n",
       "4     110.7500    7419283.0  109.4700  111.2100  109.2750   Wednesday  \n",
       "...        ...          ...       ...       ...       ...         ...  \n",
       "2978  730.1700   24757650.0  734.5577  742.0000  718.6249      Monday  \n",
       "2979  211.1300   34944050.0  211.4600  214.3300  206.6200      Monday  \n",
       "2980  269.9100    7728307.0  271.5500  273.0000  265.6800      Monday  \n",
       "2981  212.4600   20468810.0  214.1650  214.2500  209.5000     Tuesday  \n",
       "2982  269.4900    4326076.0  271.7500  272.2986  267.8000     Tuesday  \n",
       "\n",
       "[2983 rows x 14 columns]"
      ]
     },
     "execution_count": 8,
     "metadata": {},
     "output_type": "execute_result"
    }
   ],
   "source": [
    "df = df.dropna()\n",
    "df"
   ]
  },
  {
   "cell_type": "code",
   "execution_count": 9,
   "metadata": {},
   "outputs": [],
   "source": [
    "df = df.drop(['Day_of_week'],axis=1)"
   ]
  },
  {
   "cell_type": "markdown",
   "metadata": {},
   "source": [
    "## LABEL ENCODING "
   ]
  },
  {
   "cell_type": "code",
   "execution_count": 10,
   "metadata": {},
   "outputs": [],
   "source": [
    "from sklearn import preprocessing\n",
    "le = preprocessing.LabelEncoder()"
   ]
  },
  {
   "cell_type": "code",
   "execution_count": 11,
   "metadata": {},
   "outputs": [
    {
     "data": {
      "text/plain": [
       "LabelEncoder()"
      ]
     },
     "execution_count": 11,
     "metadata": {},
     "output_type": "execute_result"
    }
   ],
   "source": [
    "le.fit(df.StockName)"
   ]
  },
  {
   "cell_type": "code",
   "execution_count": 12,
   "metadata": {},
   "outputs": [
    {
     "name": "stdout",
     "output_type": "stream",
     "text": [
      "['apple' 'microsoft' 'nvidia' 'paypal' 'tesla']\n"
     ]
    }
   ],
   "source": [
    "print(le.classes_)"
   ]
  },
  {
   "cell_type": "code",
   "execution_count": 13,
   "metadata": {},
   "outputs": [
    {
     "data": {
      "text/plain": [
       "array([0, 1, 4, ..., 3, 2, 3])"
      ]
     },
     "execution_count": 13,
     "metadata": {},
     "output_type": "execute_result"
    }
   ],
   "source": [
    "le.transform(df.StockName)"
   ]
  },
  {
   "cell_type": "code",
   "execution_count": 14,
   "metadata": {},
   "outputs": [
    {
     "data": {
      "text/plain": [
       "['apple', 'microsoft', 'nvidia', 'paypal', 'tesla']"
      ]
     },
     "execution_count": 14,
     "metadata": {},
     "output_type": "execute_result"
    }
   ],
   "source": [
    "list(le.inverse_transform([0,1,2,3,4]))"
   ]
  },
  {
   "cell_type": "code",
   "execution_count": 15,
   "metadata": {},
   "outputs": [],
   "source": [
    "df.StockName = le.transform(df.StockName)"
   ]
  },
  {
   "cell_type": "markdown",
   "metadata": {},
   "source": [
    "# DATA VISUALIZATION"
   ]
  },
  {
   "cell_type": "code",
   "execution_count": 15,
   "metadata": {},
   "outputs": [
    {
     "data": {
      "image/png": "[encoded data removed]",
      "text/plain": [
       "<Figure size 432x288 with 1 Axes>"
      ]
     },
     "metadata": {
      "needs_background": "light"
     },
     "output_type": "display_data"
    }
   ],
   "source": [
    "df.plot(x='Volume', y='Close', style='o')  \n",
    "plt.title('volume vs Close Price')  \n",
    "plt.xlabel('Volume')  \n",
    "plt.ylabel('Close')  \n",
    "plt.show()"
   ]
  },
  {
   "cell_type": "code",
   "execution_count": 18,
   "metadata": {},
   "outputs": [
    {
     "data": {
      "image/png": "[encoded data removed]",
      "text/plain": [
       "<Figure size 432x288 with 1 Axes>"
      ]
     },
     "metadata": {
      "needs_background": "light"
     },
     "output_type": "display_data"
    }
   ],
   "source": [
    "df.plot(x='High', y='Close', style='y')  \n",
    "plt.title('High Price vs Close Price')  \n",
    "plt.xlabel('High ')  \n",
    "plt.ylabel('Close')  \n",
    "plt.show()"
   ]
  },
  {
   "cell_type": "code",
   "execution_count": 19,
   "metadata": {},
   "outputs": [
    {
     "data": {
      "image/png": "[encoded data removed]",
      "text/plain": [
       "<Figure size 432x288 with 1 Axes>"
      ]
     },
     "metadata": {
      "needs_background": "light"
     },
     "output_type": "display_data"
    }
   ],
   "source": [
    "df.plot(x='Open',y='Close' , style='y')\n",
    "plt.title('Open price vs Close price')\n",
    "plt.xlabel('Open')\n",
    "plt.ylabel('Close')\n",
    "plt.show()"
   ]
  },
  {
   "cell_type": "markdown",
   "metadata": {},
   "source": [
    "# NORMALIZE DATA"
   ]
  },
  {
   "cell_type": "code",
   "execution_count": 16,
   "metadata": {},
   "outputs": [],
   "source": [
    "df2 = df.copy()"
   ]
  },
  {
   "cell_type": "code",
   "execution_count": 17,
   "metadata": {},
   "outputs": [],
   "source": [
    "from sklearn.preprocessing import MinMaxScaler"
   ]
  },
  {
   "cell_type": "code",
   "execution_count": 22,
   "metadata": {},
   "outputs": [
    {
     "data": {
      "text/html": [
       "<div>\n",
       "<style scoped>\n",
       "    .dataframe tbody tr th:only-of-type {\n",
       "        vertical-align: middle;\n",
       "    }\n",
       "\n",
       "    .dataframe tbody tr th {\n",
       "        vertical-align: top;\n",
       "    }\n",
       "\n",
       "    .dataframe thead th {\n",
       "        text-align: right;\n",
       "    }\n",
       "</style>\n",
       "<table border=\"1\" class=\"dataframe\">\n",
       "  <thead>\n",
       "    <tr style=\"text-align: right;\">\n",
       "      <th></th>\n",
       "      <th>Year</th>\n",
       "      <th>Month</th>\n",
       "      <th>Day</th>\n",
       "      <th>StockName</th>\n",
       "      <th>Positive</th>\n",
       "      <th>Negative</th>\n",
       "      <th>Neutral</th>\n",
       "      <th>Total Tweets</th>\n",
       "      <th>Close</th>\n",
       "      <th>Volume</th>\n",
       "      <th>Open</th>\n",
       "      <th>High</th>\n",
       "      <th>Low</th>\n",
       "    </tr>\n",
       "  </thead>\n",
       "  <tbody>\n",
       "    <tr>\n",
       "      <th>0</th>\n",
       "      <td>0.0</td>\n",
       "      <td>0.000000</td>\n",
       "      <td>0.000000</td>\n",
       "      <td>0.00</td>\n",
       "      <td>0.025641</td>\n",
       "      <td>0.012346</td>\n",
       "      <td>0.007266</td>\n",
       "      <td>0.016034</td>\n",
       "      <td>0.031160</td>\n",
       "      <td>0.312846</td>\n",
       "      <td>0.028568</td>\n",
       "      <td>0.026730</td>\n",
       "      <td>0.034640</td>\n",
       "    </tr>\n",
       "    <tr>\n",
       "      <th>1</th>\n",
       "      <td>0.0</td>\n",
       "      <td>0.000000</td>\n",
       "      <td>0.000000</td>\n",
       "      <td>0.25</td>\n",
       "      <td>0.023077</td>\n",
       "      <td>0.000000</td>\n",
       "      <td>0.009991</td>\n",
       "      <td>0.016034</td>\n",
       "      <td>0.133719</td>\n",
       "      <td>0.046200</td>\n",
       "      <td>0.129263</td>\n",
       "      <td>0.127660</td>\n",
       "      <td>0.136926</td>\n",
       "    </tr>\n",
       "    <tr>\n",
       "      <th>2</th>\n",
       "      <td>0.0</td>\n",
       "      <td>0.000000</td>\n",
       "      <td>0.000000</td>\n",
       "      <td>1.00</td>\n",
       "      <td>0.043590</td>\n",
       "      <td>0.018519</td>\n",
       "      <td>0.002725</td>\n",
       "      <td>0.018565</td>\n",
       "      <td>0.044307</td>\n",
       "      <td>0.105557</td>\n",
       "      <td>0.041452</td>\n",
       "      <td>0.039690</td>\n",
       "      <td>0.047399</td>\n",
       "    </tr>\n",
       "    <tr>\n",
       "      <th>3</th>\n",
       "      <td>0.0</td>\n",
       "      <td>0.000000</td>\n",
       "      <td>0.000000</td>\n",
       "      <td>0.50</td>\n",
       "      <td>0.002564</td>\n",
       "      <td>0.000000</td>\n",
       "      <td>0.000000</td>\n",
       "      <td>0.000000</td>\n",
       "      <td>0.013043</td>\n",
       "      <td>0.048874</td>\n",
       "      <td>0.011486</td>\n",
       "      <td>0.008836</td>\n",
       "      <td>0.016952</td>\n",
       "    </tr>\n",
       "    <tr>\n",
       "      <th>4</th>\n",
       "      <td>0.0</td>\n",
       "      <td>0.000000</td>\n",
       "      <td>0.000000</td>\n",
       "      <td>0.75</td>\n",
       "      <td>0.002564</td>\n",
       "      <td>0.000000</td>\n",
       "      <td>0.000908</td>\n",
       "      <td>0.000844</td>\n",
       "      <td>0.073922</td>\n",
       "      <td>0.010300</td>\n",
       "      <td>0.070655</td>\n",
       "      <td>0.069258</td>\n",
       "      <td>0.077568</td>\n",
       "    </tr>\n",
       "    <tr>\n",
       "      <th>...</th>\n",
       "      <td>...</td>\n",
       "      <td>...</td>\n",
       "      <td>...</td>\n",
       "      <td>...</td>\n",
       "      <td>...</td>\n",
       "      <td>...</td>\n",
       "      <td>...</td>\n",
       "      <td>...</td>\n",
       "      <td>...</td>\n",
       "      <td>...</td>\n",
       "      <td>...</td>\n",
       "      <td>...</td>\n",
       "      <td>...</td>\n",
       "    </tr>\n",
       "    <tr>\n",
       "      <th>2978</th>\n",
       "      <td>1.0</td>\n",
       "      <td>0.727273</td>\n",
       "      <td>0.633333</td>\n",
       "      <td>1.00</td>\n",
       "      <td>0.156410</td>\n",
       "      <td>0.129630</td>\n",
       "      <td>0.035422</td>\n",
       "      <td>0.101266</td>\n",
       "      <td>0.816640</td>\n",
       "      <td>0.051209</td>\n",
       "      <td>0.813608</td>\n",
       "      <td>0.813189</td>\n",
       "      <td>0.814896</td>\n",
       "    </tr>\n",
       "    <tr>\n",
       "      <th>2979</th>\n",
       "      <td>1.0</td>\n",
       "      <td>0.727273</td>\n",
       "      <td>0.633333</td>\n",
       "      <td>0.50</td>\n",
       "      <td>0.007692</td>\n",
       "      <td>0.024691</td>\n",
       "      <td>0.002725</td>\n",
       "      <td>0.007595</td>\n",
       "      <td>0.194283</td>\n",
       "      <td>0.075243</td>\n",
       "      <td>0.191876</td>\n",
       "      <td>0.190874</td>\n",
       "      <td>0.195358</td>\n",
       "    </tr>\n",
       "    <tr>\n",
       "      <th>2980</th>\n",
       "      <td>1.0</td>\n",
       "      <td>0.727273</td>\n",
       "      <td>0.633333</td>\n",
       "      <td>0.75</td>\n",
       "      <td>0.002564</td>\n",
       "      <td>0.006173</td>\n",
       "      <td>0.001817</td>\n",
       "      <td>0.002532</td>\n",
       "      <td>0.264763</td>\n",
       "      <td>0.011029</td>\n",
       "      <td>0.263297</td>\n",
       "      <td>0.260067</td>\n",
       "      <td>0.266822</td>\n",
       "    </tr>\n",
       "    <tr>\n",
       "      <th>2981</th>\n",
       "      <td>1.0</td>\n",
       "      <td>0.727273</td>\n",
       "      <td>0.666667</td>\n",
       "      <td>0.50</td>\n",
       "      <td>0.010256</td>\n",
       "      <td>0.024691</td>\n",
       "      <td>0.000908</td>\n",
       "      <td>0.006751</td>\n",
       "      <td>0.195878</td>\n",
       "      <td>0.041090</td>\n",
       "      <td>0.195091</td>\n",
       "      <td>0.190780</td>\n",
       "      <td>0.198843</td>\n",
       "    </tr>\n",
       "    <tr>\n",
       "      <th>2982</th>\n",
       "      <td>1.0</td>\n",
       "      <td>0.727273</td>\n",
       "      <td>0.666667</td>\n",
       "      <td>0.75</td>\n",
       "      <td>0.007692</td>\n",
       "      <td>0.018519</td>\n",
       "      <td>0.001817</td>\n",
       "      <td>0.005907</td>\n",
       "      <td>0.264260</td>\n",
       "      <td>0.003002</td>\n",
       "      <td>0.263534</td>\n",
       "      <td>0.259240</td>\n",
       "      <td>0.269387</td>\n",
       "    </tr>\n",
       "  </tbody>\n",
       "</table>\n",
       "<p>2983 rows × 13 columns</p>\n",
       "</div>"
      ],
      "text/plain": [
       "      Year     Month       Day  StockName  Positive  Negative   Neutral  \\\n",
       "0      0.0  0.000000  0.000000       0.00  0.025641  0.012346  0.007266   \n",
       "1      0.0  0.000000  0.000000       0.25  0.023077  0.000000  0.009991   \n",
       "2      0.0  0.000000  0.000000       1.00  0.043590  0.018519  0.002725   \n",
       "3      0.0  0.000000  0.000000       0.50  0.002564  0.000000  0.000000   \n",
       "4      0.0  0.000000  0.000000       0.75  0.002564  0.000000  0.000908   \n",
       "...    ...       ...       ...        ...       ...       ...       ...   \n",
       "2978   1.0  0.727273  0.633333       1.00  0.156410  0.129630  0.035422   \n",
       "2979   1.0  0.727273  0.633333       0.50  0.007692  0.024691  0.002725   \n",
       "2980   1.0  0.727273  0.633333       0.75  0.002564  0.006173  0.001817   \n",
       "2981   1.0  0.727273  0.666667       0.50  0.010256  0.024691  0.000908   \n",
       "2982   1.0  0.727273  0.666667       0.75  0.007692  0.018519  0.001817   \n",
       "\n",
       "      Total Tweets     Close    Volume      Open      High       Low  \n",
       "0         0.016034  0.031160  0.312846  0.028568  0.026730  0.034640  \n",
       "1         0.016034  0.133719  0.046200  0.129263  0.127660  0.136926  \n",
       "2         0.018565  0.044307  0.105557  0.041452  0.039690  0.047399  \n",
       "3         0.000000  0.013043  0.048874  0.011486  0.008836  0.016952  \n",
       "4         0.000844  0.073922  0.010300  0.070655  0.069258  0.077568  \n",
       "...            ...       ...       ...       ...       ...       ...  \n",
       "2978      0.101266  0.816640  0.051209  0.813608  0.813189  0.814896  \n",
       "2979      0.007595  0.194283  0.075243  0.191876  0.190874  0.195358  \n",
       "2980      0.002532  0.264763  0.011029  0.263297  0.260067  0.266822  \n",
       "2981      0.006751  0.195878  0.041090  0.195091  0.190780  0.198843  \n",
       "2982      0.005907  0.264260  0.003002  0.263534  0.259240  0.269387  \n",
       "\n",
       "[2983 rows x 13 columns]"
      ]
     },
     "execution_count": 22,
     "metadata": {},
     "output_type": "execute_result"
    }
   ],
   "source": [
    "scaler = MinMaxScaler()\n",
    "df3 = pd.DataFrame(scaler.fit_transform(df2))\n",
    "df3.columns = df2.columns\n",
    "df3.index = df2.index\n",
    "df3\n"
   ]
  },
  {
   "cell_type": "code",
   "execution_count": 23,
   "metadata": {},
   "outputs": [
    {
     "data": {
      "text/html": [
       "<div>\n",
       "<style scoped>\n",
       "    .dataframe tbody tr th:only-of-type {\n",
       "        vertical-align: middle;\n",
       "    }\n",
       "\n",
       "    .dataframe tbody tr th {\n",
       "        vertical-align: top;\n",
       "    }\n",
       "\n",
       "    .dataframe thead th {\n",
       "        text-align: right;\n",
       "    }\n",
       "</style>\n",
       "<table border=\"1\" class=\"dataframe\">\n",
       "  <thead>\n",
       "    <tr style=\"text-align: right;\">\n",
       "      <th></th>\n",
       "      <th>Year</th>\n",
       "      <th>Month</th>\n",
       "      <th>Day</th>\n",
       "      <th>StockName</th>\n",
       "      <th>Positive</th>\n",
       "      <th>Negative</th>\n",
       "      <th>Neutral</th>\n",
       "      <th>Total Tweets</th>\n",
       "      <th>Close</th>\n",
       "      <th>Volume</th>\n",
       "      <th>Open</th>\n",
       "      <th>High</th>\n",
       "      <th>Low</th>\n",
       "    </tr>\n",
       "  </thead>\n",
       "  <tbody>\n",
       "    <tr>\n",
       "      <th>0</th>\n",
       "      <td>2020</td>\n",
       "      <td>1</td>\n",
       "      <td>1</td>\n",
       "      <td>0</td>\n",
       "      <td>0.025641</td>\n",
       "      <td>0.012346</td>\n",
       "      <td>0.007266</td>\n",
       "      <td>20</td>\n",
       "      <td>75.0875</td>\n",
       "      <td>0.317761</td>\n",
       "      <td>0.083085</td>\n",
       "      <td>0.083463</td>\n",
       "      <td>0.084669</td>\n",
       "    </tr>\n",
       "    <tr>\n",
       "      <th>1</th>\n",
       "      <td>2020</td>\n",
       "      <td>1</td>\n",
       "      <td>1</td>\n",
       "      <td>1</td>\n",
       "      <td>0.023077</td>\n",
       "      <td>0.000000</td>\n",
       "      <td>0.009991</td>\n",
       "      <td>20</td>\n",
       "      <td>160.6200</td>\n",
       "      <td>0.053023</td>\n",
       "      <td>0.178128</td>\n",
       "      <td>0.178510</td>\n",
       "      <td>0.181654</td>\n",
       "    </tr>\n",
       "    <tr>\n",
       "      <th>2</th>\n",
       "      <td>2020</td>\n",
       "      <td>1</td>\n",
       "      <td>1</td>\n",
       "      <td>4</td>\n",
       "      <td>0.043590</td>\n",
       "      <td>0.018519</td>\n",
       "      <td>0.002725</td>\n",
       "      <td>23</td>\n",
       "      <td>86.0520</td>\n",
       "      <td>0.111955</td>\n",
       "      <td>0.095246</td>\n",
       "      <td>0.095668</td>\n",
       "      <td>0.096767</td>\n",
       "    </tr>\n",
       "    <tr>\n",
       "      <th>3</th>\n",
       "      <td>2020</td>\n",
       "      <td>1</td>\n",
       "      <td>1</td>\n",
       "      <td>2</td>\n",
       "      <td>0.002564</td>\n",
       "      <td>0.000000</td>\n",
       "      <td>0.000000</td>\n",
       "      <td>1</td>\n",
       "      <td>59.9775</td>\n",
       "      <td>0.055677</td>\n",
       "      <td>0.066961</td>\n",
       "      <td>0.066612</td>\n",
       "      <td>0.067898</td>\n",
       "    </tr>\n",
       "    <tr>\n",
       "      <th>4</th>\n",
       "      <td>2020</td>\n",
       "      <td>1</td>\n",
       "      <td>1</td>\n",
       "      <td>3</td>\n",
       "      <td>0.002564</td>\n",
       "      <td>0.000000</td>\n",
       "      <td>0.000908</td>\n",
       "      <td>2</td>\n",
       "      <td>110.7500</td>\n",
       "      <td>0.017380</td>\n",
       "      <td>0.122810</td>\n",
       "      <td>0.123512</td>\n",
       "      <td>0.125373</td>\n",
       "    </tr>\n",
       "    <tr>\n",
       "      <th>...</th>\n",
       "      <td>...</td>\n",
       "      <td>...</td>\n",
       "      <td>...</td>\n",
       "      <td>...</td>\n",
       "      <td>...</td>\n",
       "      <td>...</td>\n",
       "      <td>...</td>\n",
       "      <td>...</td>\n",
       "      <td>...</td>\n",
       "      <td>...</td>\n",
       "      <td>...</td>\n",
       "      <td>...</td>\n",
       "      <td>...</td>\n",
       "    </tr>\n",
       "    <tr>\n",
       "      <th>2978</th>\n",
       "      <td>2021</td>\n",
       "      <td>9</td>\n",
       "      <td>20</td>\n",
       "      <td>4</td>\n",
       "      <td>0.156410</td>\n",
       "      <td>0.129630</td>\n",
       "      <td>0.035422</td>\n",
       "      <td>121</td>\n",
       "      <td>730.1700</td>\n",
       "      <td>0.057996</td>\n",
       "      <td>0.824068</td>\n",
       "      <td>0.824078</td>\n",
       "      <td>0.824489</td>\n",
       "    </tr>\n",
       "    <tr>\n",
       "      <th>2979</th>\n",
       "      <td>2021</td>\n",
       "      <td>9</td>\n",
       "      <td>20</td>\n",
       "      <td>2</td>\n",
       "      <td>0.007692</td>\n",
       "      <td>0.024691</td>\n",
       "      <td>0.002725</td>\n",
       "      <td>10</td>\n",
       "      <td>211.1300</td>\n",
       "      <td>0.081858</td>\n",
       "      <td>0.237228</td>\n",
       "      <td>0.238039</td>\n",
       "      <td>0.237058</td>\n",
       "    </tr>\n",
       "    <tr>\n",
       "      <th>2980</th>\n",
       "      <td>2021</td>\n",
       "      <td>9</td>\n",
       "      <td>20</td>\n",
       "      <td>3</td>\n",
       "      <td>0.002564</td>\n",
       "      <td>0.006173</td>\n",
       "      <td>0.001817</td>\n",
       "      <td>4</td>\n",
       "      <td>269.9100</td>\n",
       "      <td>0.018104</td>\n",
       "      <td>0.304640</td>\n",
       "      <td>0.303199</td>\n",
       "      <td>0.304819</td>\n",
       "    </tr>\n",
       "    <tr>\n",
       "      <th>2981</th>\n",
       "      <td>2021</td>\n",
       "      <td>9</td>\n",
       "      <td>21</td>\n",
       "      <td>2</td>\n",
       "      <td>0.010256</td>\n",
       "      <td>0.024691</td>\n",
       "      <td>0.000908</td>\n",
       "      <td>9</td>\n",
       "      <td>212.4600</td>\n",
       "      <td>0.047949</td>\n",
       "      <td>0.240262</td>\n",
       "      <td>0.237950</td>\n",
       "      <td>0.240363</td>\n",
       "    </tr>\n",
       "    <tr>\n",
       "      <th>2982</th>\n",
       "      <td>2021</td>\n",
       "      <td>9</td>\n",
       "      <td>21</td>\n",
       "      <td>3</td>\n",
       "      <td>0.007692</td>\n",
       "      <td>0.018519</td>\n",
       "      <td>0.001817</td>\n",
       "      <td>8</td>\n",
       "      <td>269.4900</td>\n",
       "      <td>0.010134</td>\n",
       "      <td>0.304864</td>\n",
       "      <td>0.302420</td>\n",
       "      <td>0.307251</td>\n",
       "    </tr>\n",
       "  </tbody>\n",
       "</table>\n",
       "<p>2983 rows × 13 columns</p>\n",
       "</div>"
      ],
      "text/plain": [
       "      Year  Month  Day  StockName  Positive  Negative   Neutral  Total Tweets  \\\n",
       "0     2020      1    1          0  0.025641  0.012346  0.007266            20   \n",
       "1     2020      1    1          1  0.023077  0.000000  0.009991            20   \n",
       "2     2020      1    1          4  0.043590  0.018519  0.002725            23   \n",
       "3     2020      1    1          2  0.002564  0.000000  0.000000             1   \n",
       "4     2020      1    1          3  0.002564  0.000000  0.000908             2   \n",
       "...    ...    ...  ...        ...       ...       ...       ...           ...   \n",
       "2978  2021      9   20          4  0.156410  0.129630  0.035422           121   \n",
       "2979  2021      9   20          2  0.007692  0.024691  0.002725            10   \n",
       "2980  2021      9   20          3  0.002564  0.006173  0.001817             4   \n",
       "2981  2021      9   21          2  0.010256  0.024691  0.000908             9   \n",
       "2982  2021      9   21          3  0.007692  0.018519  0.001817             8   \n",
       "\n",
       "         Close    Volume      Open      High       Low  \n",
       "0      75.0875  0.317761  0.083085  0.083463  0.084669  \n",
       "1     160.6200  0.053023  0.178128  0.178510  0.181654  \n",
       "2      86.0520  0.111955  0.095246  0.095668  0.096767  \n",
       "3      59.9775  0.055677  0.066961  0.066612  0.067898  \n",
       "4     110.7500  0.017380  0.122810  0.123512  0.125373  \n",
       "...        ...       ...       ...       ...       ...  \n",
       "2978  730.1700  0.057996  0.824068  0.824078  0.824489  \n",
       "2979  211.1300  0.081858  0.237228  0.238039  0.237058  \n",
       "2980  269.9100  0.018104  0.304640  0.303199  0.304819  \n",
       "2981  212.4600  0.047949  0.240262  0.237950  0.240363  \n",
       "2982  269.4900  0.010134  0.304864  0.302420  0.307251  \n",
       "\n",
       "[2983 rows x 13 columns]"
      ]
     },
     "execution_count": 23,
     "metadata": {},
     "output_type": "execute_result"
    }
   ],
   "source": [
    "df4 = df.copy()\n",
    "column = ['Volume','Open','High','Low','Positive','Negative','Neutral']\n",
    "df4[column] = df4[column] /df4[column].abs().max()\n",
    "df4"
   ]
  },
  {
   "cell_type": "code",
   "execution_count": 16,
   "metadata": {},
   "outputs": [
    {
     "data": {
      "text/html": [
       "<div>\n",
       "<style scoped>\n",
       "    .dataframe tbody tr th:only-of-type {\n",
       "        vertical-align: middle;\n",
       "    }\n",
       "\n",
       "    .dataframe tbody tr th {\n",
       "        vertical-align: top;\n",
       "    }\n",
       "\n",
       "    .dataframe thead th {\n",
       "        text-align: right;\n",
       "    }\n",
       "</style>\n",
       "<table border=\"1\" class=\"dataframe\">\n",
       "  <thead>\n",
       "    <tr style=\"text-align: right;\">\n",
       "      <th></th>\n",
       "      <th>Year</th>\n",
       "      <th>Month</th>\n",
       "      <th>Day</th>\n",
       "      <th>StockName</th>\n",
       "      <th>Positive</th>\n",
       "      <th>Negative</th>\n",
       "      <th>Neutral</th>\n",
       "      <th>Total Tweets</th>\n",
       "      <th>Close</th>\n",
       "      <th>Volume</th>\n",
       "      <th>Open</th>\n",
       "      <th>High</th>\n",
       "      <th>Low</th>\n",
       "    </tr>\n",
       "  </thead>\n",
       "  <tbody>\n",
       "    <tr>\n",
       "      <th>0</th>\n",
       "      <td>2020</td>\n",
       "      <td>1</td>\n",
       "      <td>1</td>\n",
       "      <td>0</td>\n",
       "      <td>10</td>\n",
       "      <td>2</td>\n",
       "      <td>8</td>\n",
       "      <td>20</td>\n",
       "      <td>75.0875</td>\n",
       "      <td>135647440.0</td>\n",
       "      <td>74.0600</td>\n",
       "      <td>75.1500</td>\n",
       "      <td>73.7975</td>\n",
       "    </tr>\n",
       "    <tr>\n",
       "      <th>1</th>\n",
       "      <td>2020</td>\n",
       "      <td>1</td>\n",
       "      <td>1</td>\n",
       "      <td>1</td>\n",
       "      <td>9</td>\n",
       "      <td>0</td>\n",
       "      <td>11</td>\n",
       "      <td>20</td>\n",
       "      <td>160.6200</td>\n",
       "      <td>22634550.0</td>\n",
       "      <td>158.7800</td>\n",
       "      <td>160.7300</td>\n",
       "      <td>158.3300</td>\n",
       "    </tr>\n",
       "    <tr>\n",
       "      <th>2</th>\n",
       "      <td>2020</td>\n",
       "      <td>1</td>\n",
       "      <td>1</td>\n",
       "      <td>4</td>\n",
       "      <td>17</td>\n",
       "      <td>3</td>\n",
       "      <td>3</td>\n",
       "      <td>23</td>\n",
       "      <td>86.0520</td>\n",
       "      <td>47791930.0</td>\n",
       "      <td>84.9000</td>\n",
       "      <td>86.1391</td>\n",
       "      <td>84.3420</td>\n",
       "    </tr>\n",
       "    <tr>\n",
       "      <th>3</th>\n",
       "      <td>2020</td>\n",
       "      <td>1</td>\n",
       "      <td>1</td>\n",
       "      <td>2</td>\n",
       "      <td>1</td>\n",
       "      <td>0</td>\n",
       "      <td>0</td>\n",
       "      <td>1</td>\n",
       "      <td>59.9775</td>\n",
       "      <td>23767876.0</td>\n",
       "      <td>59.6875</td>\n",
       "      <td>59.9775</td>\n",
       "      <td>59.1800</td>\n",
       "    </tr>\n",
       "    <tr>\n",
       "      <th>4</th>\n",
       "      <td>2020</td>\n",
       "      <td>1</td>\n",
       "      <td>1</td>\n",
       "      <td>3</td>\n",
       "      <td>1</td>\n",
       "      <td>0</td>\n",
       "      <td>1</td>\n",
       "      <td>2</td>\n",
       "      <td>110.7500</td>\n",
       "      <td>7419283.0</td>\n",
       "      <td>109.4700</td>\n",
       "      <td>111.2100</td>\n",
       "      <td>109.2750</td>\n",
       "    </tr>\n",
       "    <tr>\n",
       "      <th>...</th>\n",
       "      <td>...</td>\n",
       "      <td>...</td>\n",
       "      <td>...</td>\n",
       "      <td>...</td>\n",
       "      <td>...</td>\n",
       "      <td>...</td>\n",
       "      <td>...</td>\n",
       "      <td>...</td>\n",
       "      <td>...</td>\n",
       "      <td>...</td>\n",
       "      <td>...</td>\n",
       "      <td>...</td>\n",
       "      <td>...</td>\n",
       "    </tr>\n",
       "    <tr>\n",
       "      <th>2978</th>\n",
       "      <td>2021</td>\n",
       "      <td>9</td>\n",
       "      <td>20</td>\n",
       "      <td>4</td>\n",
       "      <td>61</td>\n",
       "      <td>21</td>\n",
       "      <td>39</td>\n",
       "      <td>121</td>\n",
       "      <td>730.1700</td>\n",
       "      <td>24757650.0</td>\n",
       "      <td>734.5577</td>\n",
       "      <td>742.0000</td>\n",
       "      <td>718.6249</td>\n",
       "    </tr>\n",
       "    <tr>\n",
       "      <th>2979</th>\n",
       "      <td>2021</td>\n",
       "      <td>9</td>\n",
       "      <td>20</td>\n",
       "      <td>2</td>\n",
       "      <td>3</td>\n",
       "      <td>4</td>\n",
       "      <td>3</td>\n",
       "      <td>10</td>\n",
       "      <td>211.1300</td>\n",
       "      <td>34944050.0</td>\n",
       "      <td>211.4600</td>\n",
       "      <td>214.3300</td>\n",
       "      <td>206.6200</td>\n",
       "    </tr>\n",
       "    <tr>\n",
       "      <th>2980</th>\n",
       "      <td>2021</td>\n",
       "      <td>9</td>\n",
       "      <td>20</td>\n",
       "      <td>3</td>\n",
       "      <td>1</td>\n",
       "      <td>1</td>\n",
       "      <td>2</td>\n",
       "      <td>4</td>\n",
       "      <td>269.9100</td>\n",
       "      <td>7728307.0</td>\n",
       "      <td>271.5500</td>\n",
       "      <td>273.0000</td>\n",
       "      <td>265.6800</td>\n",
       "    </tr>\n",
       "    <tr>\n",
       "      <th>2981</th>\n",
       "      <td>2021</td>\n",
       "      <td>9</td>\n",
       "      <td>21</td>\n",
       "      <td>2</td>\n",
       "      <td>4</td>\n",
       "      <td>4</td>\n",
       "      <td>1</td>\n",
       "      <td>9</td>\n",
       "      <td>212.4600</td>\n",
       "      <td>20468810.0</td>\n",
       "      <td>214.1650</td>\n",
       "      <td>214.2500</td>\n",
       "      <td>209.5000</td>\n",
       "    </tr>\n",
       "    <tr>\n",
       "      <th>2982</th>\n",
       "      <td>2021</td>\n",
       "      <td>9</td>\n",
       "      <td>21</td>\n",
       "      <td>3</td>\n",
       "      <td>3</td>\n",
       "      <td>3</td>\n",
       "      <td>2</td>\n",
       "      <td>8</td>\n",
       "      <td>269.4900</td>\n",
       "      <td>4326076.0</td>\n",
       "      <td>271.7500</td>\n",
       "      <td>272.2986</td>\n",
       "      <td>267.8000</td>\n",
       "    </tr>\n",
       "  </tbody>\n",
       "</table>\n",
       "<p>2983 rows × 13 columns</p>\n",
       "</div>"
      ],
      "text/plain": [
       "      Year  Month  Day  StockName  Positive  Negative  Neutral  Total Tweets  \\\n",
       "0     2020      1    1          0        10         2        8            20   \n",
       "1     2020      1    1          1         9         0       11            20   \n",
       "2     2020      1    1          4        17         3        3            23   \n",
       "3     2020      1    1          2         1         0        0             1   \n",
       "4     2020      1    1          3         1         0        1             2   \n",
       "...    ...    ...  ...        ...       ...       ...      ...           ...   \n",
       "2978  2021      9   20          4        61        21       39           121   \n",
       "2979  2021      9   20          2         3         4        3            10   \n",
       "2980  2021      9   20          3         1         1        2             4   \n",
       "2981  2021      9   21          2         4         4        1             9   \n",
       "2982  2021      9   21          3         3         3        2             8   \n",
       "\n",
       "         Close       Volume      Open      High       Low  \n",
       "0      75.0875  135647440.0   74.0600   75.1500   73.7975  \n",
       "1     160.6200   22634550.0  158.7800  160.7300  158.3300  \n",
       "2      86.0520   47791930.0   84.9000   86.1391   84.3420  \n",
       "3      59.9775   23767876.0   59.6875   59.9775   59.1800  \n",
       "4     110.7500    7419283.0  109.4700  111.2100  109.2750  \n",
       "...        ...          ...       ...       ...       ...  \n",
       "2978  730.1700   24757650.0  734.5577  742.0000  718.6249  \n",
       "2979  211.1300   34944050.0  211.4600  214.3300  206.6200  \n",
       "2980  269.9100    7728307.0  271.5500  273.0000  265.6800  \n",
       "2981  212.4600   20468810.0  214.1650  214.2500  209.5000  \n",
       "2982  269.4900    4326076.0  271.7500  272.2986  267.8000  \n",
       "\n",
       "[2983 rows x 13 columns]"
      ]
     },
     "execution_count": 16,
     "metadata": {},
     "output_type": "execute_result"
    }
   ],
   "source": [
    "df5 = df.copy()\n",
    "df5"
   ]
  },
  {
   "cell_type": "code",
   "execution_count": 25,
   "metadata": {},
   "outputs": [],
   "source": [
    "import seaborn as sns\n"
   ]
  },
  {
   "cell_type": "markdown",
   "metadata": {},
   "source": [
    "# LINEAR REGRESSION MODEL"
   ]
  },
  {
   "cell_type": "code",
   "execution_count": 16,
   "metadata": {},
   "outputs": [
    {
     "name": "stdout",
     "output_type": "stream",
     "text": [
      "RMSE : 3.130532508336315 mae : 1.9251176526610219 r^2 : 0.999735839664859\n"
     ]
    }
   ],
   "source": [
    "#samples = []\n",
    "#rmse = []\n",
    "#mae = []\n",
    "\n",
    "x = df5[['Year','Month','Day','StockName','Positive','Negative','Neutral','Volume','Open','Low','High']].to_numpy()\n",
    "y = np.array(df5['Close'])\n",
    "\n",
    "for train_index, test_index in tscv.split(x):\n",
    "    x_train , x_test = x[train_index] , x[test_index]\n",
    "    y_train , y_test = y[train_index] , y[test_index]\n",
    "    regresor = LinearRegression()\n",
    "    regresor.fit(x_train,y_train)\n",
    "    y_pred = regresor.predict(x_test)\n",
    "    rmse = (math.sqrt(metrics.mean_squared_error(y_test,y_pred)))\n",
    "    mae = (metrics.mean_absolute_error(y_test, y_pred))\n",
    "    r2 = metrics.r2_score(y_test, y_pred)\n",
    "    #accuracy = metrics.accuracy_score(y_test, y_pred,normalize=False)\n",
    "    \n",
    "\n",
    "#for i in range(len(samples)):\n",
    "print(  \"RMSE :\" ,rmse , \"mae :\" , mae,\"r^2 :\",r2 )\n",
    "#print(accuracy)\n",
    "\n",
    "    "
   ]
  },
  {
   "cell_type": "code",
   "execution_count": 19,
   "metadata": {},
   "outputs": [
    {
     "data": {
      "text/plain": [
       "array([75.39107719])"
      ]
     },
     "execution_count": 19,
     "metadata": {},
     "output_type": "execute_result"
    }
   ],
   "source": [
    "regresor.predict([[2020,1,1,0,10,2,8,135647440.0,74.0600,75.1500,75.1500]])"
   ]
  },
  {
   "cell_type": "code",
   "execution_count": 26,
   "metadata": {},
   "outputs": [
    {
     "data": {
      "text/plain": [
       "LinearRegression()"
      ]
     },
     "execution_count": 26,
     "metadata": {},
     "output_type": "execute_result"
    }
   ],
   "source": [
    "model = LinearRegression()\n",
    "model.fit(x,y)"
   ]
  },
  {
   "cell_type": "code",
   "execution_count": 27,
   "metadata": {},
   "outputs": [],
   "source": [
    "prediction = model.predict(x_test)"
   ]
  },
  {
   "cell_type": "code",
   "execution_count": 47,
   "metadata": {},
   "outputs": [],
   "source": [
    "with open('new_model_pickle','wb') as f:\n",
    "    pickle.dump(model,f)"
   ]
  },
  {
   "cell_type": "code",
   "execution_count": 48,
   "metadata": {},
   "outputs": [],
   "source": [
    "with open('new_model_pickle','rb') as f:\n",
    "    mp = pickle.load(f)"
   ]
  },
  {
   "cell_type": "code",
   "execution_count": 39,
   "metadata": {},
   "outputs": [],
   "source": [
    "import numpy"
   ]
  },
  {
   "cell_type": "code",
   "execution_count": 49,
   "metadata": {
    "scrolled": true
   },
   "outputs": [
    {
     "data": {
      "text/plain": [
       "array([74.91767937])"
      ]
     },
     "execution_count": 49,
     "metadata": {},
     "output_type": "execute_result"
    }
   ],
   "source": [
    "mp.predict([[2020,1,1,0,10,2,8,135647440.0,74.0600,75.1500,73.7975]])"
   ]
  },
  {
   "cell_type": "code",
   "execution_count": 50,
   "metadata": {},
   "outputs": [
    {
     "data": {
      "text/plain": [
       "array([743.47851619])"
      ]
     },
     "execution_count": 50,
     "metadata": {},
     "output_type": "execute_result"
    }
   ],
   "source": [
    "mp.predict([[2021,9,20,4,61,21,39,24757650.0,734.5577,742.0000,718.6249]])"
   ]
  },
  {
   "cell_type": "code",
   "execution_count": 27,
   "metadata": {},
   "outputs": [
    {
     "data": {
      "image/png": "[encoded data removed]",
      "text/plain": [
       "<Figure size 432x288 with 1 Axes>"
      ]
     },
     "metadata": {
      "needs_background": "light"
     },
     "output_type": "display_data"
    }
   ],
   "source": [
    "rp = sns.regplot(x=y_test, y=y_pred)"
   ]
  },
  {
   "cell_type": "code",
   "execution_count": 17,
   "metadata": {
    "scrolled": true
   },
   "outputs": [
    {
     "data": {
      "text/html": [
       "<div>\n",
       "<style scoped>\n",
       "    .dataframe tbody tr th:only-of-type {\n",
       "        vertical-align: middle;\n",
       "    }\n",
       "\n",
       "    .dataframe tbody tr th {\n",
       "        vertical-align: top;\n",
       "    }\n",
       "\n",
       "    .dataframe thead th {\n",
       "        text-align: right;\n",
       "    }\n",
       "</style>\n",
       "<table border=\"1\" class=\"dataframe\">\n",
       "  <thead>\n",
       "    <tr style=\"text-align: right;\">\n",
       "      <th></th>\n",
       "      <th>Actual_Close_Price</th>\n",
       "      <th>Predicted_Close_Price</th>\n",
       "    </tr>\n",
       "  </thead>\n",
       "  <tbody>\n",
       "    <tr>\n",
       "      <th>0</th>\n",
       "      <td>178.897500</td>\n",
       "      <td>178.012663</td>\n",
       "    </tr>\n",
       "    <tr>\n",
       "      <th>1</th>\n",
       "      <td>273.190000</td>\n",
       "      <td>273.326551</td>\n",
       "    </tr>\n",
       "    <tr>\n",
       "      <th>2</th>\n",
       "      <td>129.436667</td>\n",
       "      <td>127.702669</td>\n",
       "    </tr>\n",
       "    <tr>\n",
       "      <th>3</th>\n",
       "      <td>259.223333</td>\n",
       "      <td>258.832769</td>\n",
       "    </tr>\n",
       "    <tr>\n",
       "      <th>4</th>\n",
       "      <td>615.090000</td>\n",
       "      <td>618.376570</td>\n",
       "    </tr>\n",
       "  </tbody>\n",
       "</table>\n",
       "</div>"
      ],
      "text/plain": [
       "   Actual_Close_Price  Predicted_Close_Price\n",
       "0          178.897500             178.012663\n",
       "1          273.190000             273.326551\n",
       "2          129.436667             127.702669\n",
       "3          259.223333             258.832769\n",
       "4          615.090000             618.376570"
      ]
     },
     "execution_count": 17,
     "metadata": {},
     "output_type": "execute_result"
    }
   ],
   "source": [
    "d = pd.DataFrame({'Actual_Close_Price': y_test, 'Predicted_Close_Price': y_pred})\n",
    "d.head(5)"
   ]
  },
  {
   "cell_type": "code",
   "execution_count": null,
   "metadata": {},
   "outputs": [],
   "source": []
  },
  {
   "cell_type": "code",
   "execution_count": 29,
   "metadata": {},
   "outputs": [
    {
     "data": {
      "text/plain": [
       "0      178.897500\n",
       "1      273.190000\n",
       "2      129.436667\n",
       "3      259.223333\n",
       "4      615.090000\n",
       "          ...    \n",
       "492    730.170000\n",
       "493    211.130000\n",
       "494    269.910000\n",
       "495    212.460000\n",
       "496    269.490000\n",
       "Name: Actual_Close_Price, Length: 497, dtype: float64"
      ]
     },
     "execution_count": 29,
     "metadata": {},
     "output_type": "execute_result"
    }
   ],
   "source": [
    "d.Actual_Close_Price"
   ]
  },
  {
   "cell_type": "code",
   "execution_count": 33,
   "metadata": {},
   "outputs": [],
   "source": [
    "import pandas as pd\n",
    "import numpy as np\n",
    "import matplotlib.pyplot as plt\n",
    "from matplotlib import style\n",
    "from statistics import mean\n",
    "from sklearn import linear_model"
   ]
  },
  {
   "cell_type": "code",
   "execution_count": 19,
   "metadata": {},
   "outputs": [
    {
     "data": {
      "text/html": [
       "<div>\n",
       "<style scoped>\n",
       "    .dataframe tbody tr th:only-of-type {\n",
       "        vertical-align: middle;\n",
       "    }\n",
       "\n",
       "    .dataframe tbody tr th {\n",
       "        vertical-align: top;\n",
       "    }\n",
       "\n",
       "    .dataframe thead th {\n",
       "        text-align: right;\n",
       "    }\n",
       "</style>\n",
       "<table border=\"1\" class=\"dataframe\">\n",
       "  <thead>\n",
       "    <tr style=\"text-align: right;\">\n",
       "      <th></th>\n",
       "      <th>Actual_Close_Price</th>\n",
       "      <th>Predicted_Close_Price</th>\n",
       "    </tr>\n",
       "  </thead>\n",
       "  <tbody>\n",
       "    <tr>\n",
       "      <th>0</th>\n",
       "      <td>178.897500</td>\n",
       "      <td>178.012663</td>\n",
       "    </tr>\n",
       "    <tr>\n",
       "      <th>1</th>\n",
       "      <td>273.190000</td>\n",
       "      <td>273.326551</td>\n",
       "    </tr>\n",
       "    <tr>\n",
       "      <th>2</th>\n",
       "      <td>129.436667</td>\n",
       "      <td>127.702669</td>\n",
       "    </tr>\n",
       "    <tr>\n",
       "      <th>3</th>\n",
       "      <td>259.223333</td>\n",
       "      <td>258.832769</td>\n",
       "    </tr>\n",
       "    <tr>\n",
       "      <th>4</th>\n",
       "      <td>615.090000</td>\n",
       "      <td>618.376570</td>\n",
       "    </tr>\n",
       "    <tr>\n",
       "      <th>...</th>\n",
       "      <td>...</td>\n",
       "      <td>...</td>\n",
       "    </tr>\n",
       "    <tr>\n",
       "      <th>195</th>\n",
       "      <td>649.260000</td>\n",
       "      <td>656.127123</td>\n",
       "    </tr>\n",
       "    <tr>\n",
       "      <th>196</th>\n",
       "      <td>195.940000</td>\n",
       "      <td>195.786623</td>\n",
       "    </tr>\n",
       "    <tr>\n",
       "      <th>197</th>\n",
       "      <td>303.690000</td>\n",
       "      <td>305.876446</td>\n",
       "    </tr>\n",
       "    <tr>\n",
       "      <th>198</th>\n",
       "      <td>148.560000</td>\n",
       "      <td>148.177636</td>\n",
       "    </tr>\n",
       "    <tr>\n",
       "      <th>199</th>\n",
       "      <td>289.670000</td>\n",
       "      <td>289.405402</td>\n",
       "    </tr>\n",
       "  </tbody>\n",
       "</table>\n",
       "<p>200 rows × 2 columns</p>\n",
       "</div>"
      ],
      "text/plain": [
       "     Actual_Close_Price  Predicted_Close_Price\n",
       "0            178.897500             178.012663\n",
       "1            273.190000             273.326551\n",
       "2            129.436667             127.702669\n",
       "3            259.223333             258.832769\n",
       "4            615.090000             618.376570\n",
       "..                  ...                    ...\n",
       "195          649.260000             656.127123\n",
       "196          195.940000             195.786623\n",
       "197          303.690000             305.876446\n",
       "198          148.560000             148.177636\n",
       "199          289.670000             289.405402\n",
       "\n",
       "[200 rows x 2 columns]"
      ]
     },
     "execution_count": 19,
     "metadata": {},
     "output_type": "execute_result"
    }
   ],
   "source": [
    "plot_df = d[:200]\n",
    "plot_df"
   ]
  },
  {
   "cell_type": "code",
   "execution_count": 20,
   "metadata": {},
   "outputs": [],
   "source": [
    "plot_df.to_csv('act_vs_pred.csv')"
   ]
  },
  {
   "cell_type": "code",
   "execution_count": 37,
   "metadata": {},
   "outputs": [],
   "source": [
    "# convert height and weight columns to lists\n",
    "act_list = plot_df['Actual_Close_Price'].tolist()\n",
    "pre_list = plot_df['Predicted_Close_Price'].tolist()\n",
    "\n",
    "# convert lists to numpy lists\n",
    "xs = np.array(act_list, dtype=np.float64)\n",
    "ys = np.array(pre_list, dtype=np.float64)"
   ]
  },
  {
   "cell_type": "code",
   "execution_count": 42,
   "metadata": {},
   "outputs": [
    {
     "data": {
      "text/plain": [
       "290.0913531254602"
      ]
     },
     "execution_count": 42,
     "metadata": {},
     "output_type": "execute_result"
    }
   ],
   "source": [
    "# Create linear regression object\n",
    "act_pred = linear_model.LinearRegression()\n",
    "\n",
    "# Train the model using the training sets\n",
    "act_pred.fit(xs.reshape(-1,1),ys)\n",
    "\n",
    "# get the regression line using the model\n",
    "regression_line = act_pred.predict(xs.reshape(-1,1))\n",
    "\n",
    "# Making predictions\n",
    "KSI_act = 289.670000\n",
    "KSI_pred = act_pred.predict(np.array([[KSI_act]]))[0]\n",
    "KSI_pred"
   ]
  },
  {
   "cell_type": "code",
   "execution_count": 46,
   "metadata": {},
   "outputs": [
    {
     "data": {
      "image/png": "[encoded data removed]",
      "text/plain": [
       "<Figure size 576x396 with 1 Axes>"
      ]
     },
     "metadata": {},
     "output_type": "display_data"
    },
    {
     "data": {
      "text/plain": [
       "<Figure size 576x396 with 0 Axes>"
      ]
     },
     "metadata": {},
     "output_type": "display_data"
    }
   ],
   "source": [
    "# Plot outputs and plot customization\n",
    "style.use('seaborn')\n",
    "plt.scatter(xs,ys,label='Data Points', alpha=0.6,color='green',s=75)\n",
    "plt.scatter(KSI_height,KSI_weight, label='KSI prediction',color='red',s=100)\n",
    "plt.plot(xs,regression_line,label='Best Fit Line', color='orange',linewidth=4)\n",
    "plt.title('Actual vs Predicted close preice using linear regression')\n",
    "plt.xlabel('Actual close price')\n",
    "plt.ylabel('Predicted close price')\n",
    "plt.legend()\n",
    "plt.show()\n",
    "plt.savefig('LRplot.jpg')"
   ]
  },
  {
   "cell_type": "code",
   "execution_count": 44,
   "metadata": {
    "scrolled": true
   },
   "outputs": [
    {
     "data": {
      "text/plain": [
       "<Figure size 576x396 with 0 Axes>"
      ]
     },
     "metadata": {},
     "output_type": "display_data"
    }
   ],
   "source": []
  },
  {
   "cell_type": "markdown",
   "metadata": {},
   "source": [
    "# RANDOMFOREST REGRESSOR MODEL"
   ]
  },
  {
   "cell_type": "code",
   "execution_count": 30,
   "metadata": {},
   "outputs": [
    {
     "name": "stdout",
     "output_type": "stream",
     "text": [
      "RMSE : 4.2451615253024375 mae : 2.6752984238631816 r^2 : 0.9995142423935549\n"
     ]
    }
   ],
   "source": [
    "#samples = []\n",
    "#rmse = []\n",
    "#mae = []\n",
    "\n",
    "x = df5[['Year','Month','Day','StockName','Positive','Negative','Neutral','Volume','Open','Low','High']].to_numpy()\n",
    "y = np.array(df5['Close'])\n",
    "\n",
    "for train_index, test_index in tscv.split(x):\n",
    "    x_train , x_test = x[train_index] , x[test_index]\n",
    "    y_train , y_test = y[train_index] , y[test_index]\n",
    "    regresor =RandomForestRegressor(n_estimators = 10, random_state = 0)\n",
    "    regresor.fit(x_train,y_train)\n",
    "    y_pred = regresor.predict(x_test)\n",
    "    rmse = (math.sqrt(metrics.mean_squared_error(y_test,y_pred)))\n",
    "    mae = (metrics.mean_absolute_error(y_test, y_pred))\n",
    "    r2 = metrics.r2_score(y_test, y_pred)\n",
    "    #accuracy = metrics.accuracy_score(y_test, y_pred,normalize=False)\n",
    "    \n",
    "\n",
    "#for i in range(len(samples)):\n",
    "print(  \"RMSE :\" ,rmse , \"mae :\" , mae,\"r^2 :\",r2 )\n",
    "#print(accuracy)"
   ]
  },
  {
   "cell_type": "code",
   "execution_count": 49,
   "metadata": {},
   "outputs": [],
   "source": [
    "with open('stock_model_RandonForest.pkl', 'wb') as file:\n",
    " pickle.dump(regresor, file)\n"
   ]
  },
  {
   "cell_type": "code",
   "execution_count": 31,
   "metadata": {},
   "outputs": [
    {
     "data": {
      "image/png": "[encoded data removed]",
      "text/plain": [
       "<Figure size 432x288 with 1 Axes>"
      ]
     },
     "metadata": {
      "needs_background": "light"
     },
     "output_type": "display_data"
    }
   ],
   "source": [
    "rp = sns.regplot(x=y_test, y=y_pred)"
   ]
  },
  {
   "cell_type": "code",
   "execution_count": 32,
   "metadata": {},
   "outputs": [
    {
     "data": {
      "text/html": [
       "<div>\n",
       "<style scoped>\n",
       "    .dataframe tbody tr th:only-of-type {\n",
       "        vertical-align: middle;\n",
       "    }\n",
       "\n",
       "    .dataframe tbody tr th {\n",
       "        vertical-align: top;\n",
       "    }\n",
       "\n",
       "    .dataframe thead th {\n",
       "        text-align: right;\n",
       "    }\n",
       "</style>\n",
       "<table border=\"1\" class=\"dataframe\">\n",
       "  <thead>\n",
       "    <tr style=\"text-align: right;\">\n",
       "      <th></th>\n",
       "      <th>Actual_Close_Price</th>\n",
       "      <th>Predicted_Close_Price</th>\n",
       "    </tr>\n",
       "  </thead>\n",
       "  <tbody>\n",
       "    <tr>\n",
       "      <th>0</th>\n",
       "      <td>178.897500</td>\n",
       "      <td>176.714583</td>\n",
       "    </tr>\n",
       "    <tr>\n",
       "      <th>1</th>\n",
       "      <td>273.190000</td>\n",
       "      <td>270.817000</td>\n",
       "    </tr>\n",
       "    <tr>\n",
       "      <th>2</th>\n",
       "      <td>129.436667</td>\n",
       "      <td>127.933667</td>\n",
       "    </tr>\n",
       "    <tr>\n",
       "      <th>3</th>\n",
       "      <td>259.223333</td>\n",
       "      <td>258.294667</td>\n",
       "    </tr>\n",
       "    <tr>\n",
       "      <th>4</th>\n",
       "      <td>615.090000</td>\n",
       "      <td>614.130000</td>\n",
       "    </tr>\n",
       "  </tbody>\n",
       "</table>\n",
       "</div>"
      ],
      "text/plain": [
       "   Actual_Close_Price  Predicted_Close_Price\n",
       "0          178.897500             176.714583\n",
       "1          273.190000             270.817000\n",
       "2          129.436667             127.933667\n",
       "3          259.223333             258.294667\n",
       "4          615.090000             614.130000"
      ]
     },
     "execution_count": 32,
     "metadata": {},
     "output_type": "execute_result"
    }
   ],
   "source": [
    "d = pd.DataFrame({'Actual_Close_Price': y_test, 'Predicted_Close_Price': y_pred})\n",
    "d.head(5)"
   ]
  },
  {
   "cell_type": "markdown",
   "metadata": {},
   "source": [
    "# XG BOOSTING USING HYPERTUNING"
   ]
  },
  {
   "cell_type": "code",
   "execution_count": 33,
   "metadata": {},
   "outputs": [
    {
     "name": "stdout",
     "output_type": "stream",
     "text": [
      "Fitting 5 folds for each of 10 candidates, totalling 50 fits\n",
      "====================================================================================================\n",
      "The Best Parameters are :  {'n_estimators': 100, 'max_depth': 10, 'learning_rate': 0.05}\n",
      "====================================================================================================\n",
      "RMSE : 5.735650016702198 mae : 3.909623901244381 r^2 : 0.9991132596774276\n"
     ]
    }
   ],
   "source": [
    "from sklearn.model_selection import RandomizedSearchCV\n",
    "from xgboost import XGBRegressor\n",
    "xgb = XGBRegressor()\n",
    "\n",
    "params = {'learning_rate':[0.01,0.03,0.05,0.1],\n",
    "          'n_estimators':[5,10,15,20,50,70,100],\n",
    "          'max_depth':[3,5,10]} \n",
    "\n",
    "cross_val = RandomizedSearchCV(xgb, param_distributions=params, n_iter=10,cv=5,n_jobs=-1, verbose=10)\n",
    "cross_val.fit(x_train,y_train)\n",
    "\n",
    "print('='*100)\n",
    "print('The Best Parameters are : ',cross_val.best_params_)\n",
    "print('='*100) \n",
    "\n",
    "xgb_best = cross_val.best_estimator_ \n",
    "xgb_best.fit(x_train, y_train)\n",
    "\n",
    "y_pred = xgb_best.predict(x_test)\n",
    "\n",
    "rmse = (math.sqrt(metrics.mean_squared_error(y_test,y_pred)))\n",
    "mae = (metrics.mean_absolute_error(y_test, y_pred))\n",
    "r2 = metrics.r2_score(y_test, y_pred)\n",
    "    #accuracy = metrics.accuracy_score(y_test, y_pred,normalize=False)\n",
    "    \n",
    "\n",
    "#for i in range(len(samples)):\n",
    "print(  \"RMSE :\" ,rmse , \"mae :\" , mae,\"r^2 :\",r2 )\n",
    "#print(accuracy)"
   ]
  },
  {
   "cell_type": "code",
   "execution_count": 34,
   "metadata": {},
   "outputs": [
    {
     "data": {
      "image/png": "[encoded data removed]",
      "text/plain": [
       "<Figure size 432x288 with 1 Axes>"
      ]
     },
     "metadata": {
      "needs_background": "light"
     },
     "output_type": "display_data"
    }
   ],
   "source": [
    "rp = sns.regplot(x=y_test, y=y_pred)"
   ]
  },
  {
   "cell_type": "code",
   "execution_count": 35,
   "metadata": {},
   "outputs": [
    {
     "data": {
      "text/html": [
       "<div>\n",
       "<style scoped>\n",
       "    .dataframe tbody tr th:only-of-type {\n",
       "        vertical-align: middle;\n",
       "    }\n",
       "\n",
       "    .dataframe tbody tr th {\n",
       "        vertical-align: top;\n",
       "    }\n",
       "\n",
       "    .dataframe thead th {\n",
       "        text-align: right;\n",
       "    }\n",
       "</style>\n",
       "<table border=\"1\" class=\"dataframe\">\n",
       "  <thead>\n",
       "    <tr style=\"text-align: right;\">\n",
       "      <th></th>\n",
       "      <th>Actual_Close_Price</th>\n",
       "      <th>Predicted_Close_Price</th>\n",
       "    </tr>\n",
       "  </thead>\n",
       "  <tbody>\n",
       "    <tr>\n",
       "      <th>0</th>\n",
       "      <td>178.897500</td>\n",
       "      <td>176.105743</td>\n",
       "    </tr>\n",
       "    <tr>\n",
       "      <th>1</th>\n",
       "      <td>273.190000</td>\n",
       "      <td>268.473175</td>\n",
       "    </tr>\n",
       "    <tr>\n",
       "      <th>2</th>\n",
       "      <td>129.436667</td>\n",
       "      <td>127.530952</td>\n",
       "    </tr>\n",
       "    <tr>\n",
       "      <th>3</th>\n",
       "      <td>259.223333</td>\n",
       "      <td>256.245819</td>\n",
       "    </tr>\n",
       "    <tr>\n",
       "      <th>4</th>\n",
       "      <td>615.090000</td>\n",
       "      <td>606.941833</td>\n",
       "    </tr>\n",
       "  </tbody>\n",
       "</table>\n",
       "</div>"
      ],
      "text/plain": [
       "   Actual_Close_Price  Predicted_Close_Price\n",
       "0          178.897500             176.105743\n",
       "1          273.190000             268.473175\n",
       "2          129.436667             127.530952\n",
       "3          259.223333             256.245819\n",
       "4          615.090000             606.941833"
      ]
     },
     "execution_count": 35,
     "metadata": {},
     "output_type": "execute_result"
    }
   ],
   "source": [
    "d = pd.DataFrame({'Actual_Close_Price': y_test, 'Predicted_Close_Price': y_pred})\n",
    "d.head(5)"
   ]
  },
  {
   "cell_type": "markdown",
   "metadata": {},
   "source": [
    "# AdaBoost Regressor"
   ]
  },
  {
   "cell_type": "code",
   "execution_count": 17,
   "metadata": {},
   "outputs": [
    {
     "name": "stdout",
     "output_type": "stream",
     "text": [
      "RMSE : 7.177670952093852 mae : 5.2916241768866525 r^2 : 0.9986113325339405\n"
     ]
    }
   ],
   "source": [
    "#samples = []\n",
    "#rmse = []\n",
    "#mae = []\n",
    "\n",
    "x = df5[['Year','Month','Day','StockName','Positive','Negative','Neutral','Volume','Open','Low','High']].to_numpy()\n",
    "y = np.array(df5['Close'])\n",
    "\n",
    "for train_index, test_index in tscv.split(x):\n",
    "    x_train , x_test = x[train_index] , x[test_index]\n",
    "    y_train , y_test = y[train_index] , y[test_index]\n",
    "    regresor =AdaBoostRegressor(random_state=10, n_estimators=80)\n",
    "    regresor.fit(x_train,y_train)\n",
    "    y_pred = regresor.predict(x_test)\n",
    "    rmse = (math.sqrt(metrics.mean_squared_error(y_test,y_pred)))\n",
    "    mae = (metrics.mean_absolute_error(y_test, y_pred))\n",
    "    r2 = metrics.r2_score(y_test, y_pred)\n",
    "    #accuracy = metrics.accuracy_score(y_test, y_pred,normalize=False)\n",
    "    \n",
    "\n",
    "#for i in range(len(samples)):\n",
    "print(  \"RMSE :\" ,rmse , \"mae :\" , mae,\"r^2 :\",r2 )\n",
    "#print(accuracy)"
   ]
  },
  {
   "cell_type": "code",
   "execution_count": 18,
   "metadata": {},
   "outputs": [
    {
     "data": {
      "text/html": [
       "<div>\n",
       "<style scoped>\n",
       "    .dataframe tbody tr th:only-of-type {\n",
       "        vertical-align: middle;\n",
       "    }\n",
       "\n",
       "    .dataframe tbody tr th {\n",
       "        vertical-align: top;\n",
       "    }\n",
       "\n",
       "    .dataframe thead th {\n",
       "        text-align: right;\n",
       "    }\n",
       "</style>\n",
       "<table border=\"1\" class=\"dataframe\">\n",
       "  <thead>\n",
       "    <tr style=\"text-align: right;\">\n",
       "      <th></th>\n",
       "      <th>Actual_Close_Price</th>\n",
       "      <th>Predicted_Close_Price</th>\n",
       "    </tr>\n",
       "  </thead>\n",
       "  <tbody>\n",
       "    <tr>\n",
       "      <th>0</th>\n",
       "      <td>178.897500</td>\n",
       "      <td>185.620706</td>\n",
       "    </tr>\n",
       "    <tr>\n",
       "      <th>1</th>\n",
       "      <td>273.190000</td>\n",
       "      <td>272.056882</td>\n",
       "    </tr>\n",
       "    <tr>\n",
       "      <th>2</th>\n",
       "      <td>129.436667</td>\n",
       "      <td>110.721015</td>\n",
       "    </tr>\n",
       "    <tr>\n",
       "      <th>3</th>\n",
       "      <td>259.223333</td>\n",
       "      <td>268.181382</td>\n",
       "    </tr>\n",
       "    <tr>\n",
       "      <th>4</th>\n",
       "      <td>615.090000</td>\n",
       "      <td>600.942583</td>\n",
       "    </tr>\n",
       "  </tbody>\n",
       "</table>\n",
       "</div>"
      ],
      "text/plain": [
       "   Actual_Close_Price  Predicted_Close_Price\n",
       "0          178.897500             185.620706\n",
       "1          273.190000             272.056882\n",
       "2          129.436667             110.721015\n",
       "3          259.223333             268.181382\n",
       "4          615.090000             600.942583"
      ]
     },
     "execution_count": 18,
     "metadata": {},
     "output_type": "execute_result"
    }
   ],
   "source": [
    "d = pd.DataFrame({'Actual_Close_Price': y_test, 'Predicted_Close_Price': y_pred})\n",
    "d.head(5)"
   ]
  },
  {
   "cell_type": "markdown",
   "metadata": {},
   "source": [
    "# RESULTS"
   ]
  },
  {
   "cell_type": "code",
   "execution_count": 19,
   "metadata": {},
   "outputs": [],
   "source": [
    "res = [['Linear Regression', 0.9997,3.130,1.925], ['Random Forest Regressor',0.9995,4.245,2.675], ['XGBoost Regressor',  0.9991,5.7356,3.9096],['AdaBoost Regressor',0.9986,7.1776, 5.2916]]\n",
    " \n",
    "# Create the pandas DataFrame\n",
    "res = pd.DataFrame(res, columns = ['Model Name', 'R square value', 'Root Mean Square Error','Mean Avg.Error'])"
   ]
  },
  {
   "cell_type": "code",
   "execution_count": 20,
   "metadata": {},
   "outputs": [
    {
     "data": {
      "text/html": [
       "<div>\n",
       "<style scoped>\n",
       "    .dataframe tbody tr th:only-of-type {\n",
       "        vertical-align: middle;\n",
       "    }\n",
       "\n",
       "    .dataframe tbody tr th {\n",
       "        vertical-align: top;\n",
       "    }\n",
       "\n",
       "    .dataframe thead th {\n",
       "        text-align: right;\n",
       "    }\n",
       "</style>\n",
       "<table border=\"1\" class=\"dataframe\">\n",
       "  <thead>\n",
       "    <tr style=\"text-align: right;\">\n",
       "      <th></th>\n",
       "      <th>Model Name</th>\n",
       "      <th>R square value</th>\n",
       "      <th>Root Mean Square Error</th>\n",
       "      <th>Mean Avg.Error</th>\n",
       "    </tr>\n",
       "  </thead>\n",
       "  <tbody>\n",
       "    <tr>\n",
       "      <th>0</th>\n",
       "      <td>Linear Regression</td>\n",
       "      <td>0.9997</td>\n",
       "      <td>3.1300</td>\n",
       "      <td>1.9250</td>\n",
       "    </tr>\n",
       "    <tr>\n",
       "      <th>1</th>\n",
       "      <td>Random Forest Regressor</td>\n",
       "      <td>0.9995</td>\n",
       "      <td>4.2450</td>\n",
       "      <td>2.6750</td>\n",
       "    </tr>\n",
       "    <tr>\n",
       "      <th>2</th>\n",
       "      <td>XGBoost Regressor</td>\n",
       "      <td>0.9991</td>\n",
       "      <td>5.7356</td>\n",
       "      <td>3.9096</td>\n",
       "    </tr>\n",
       "    <tr>\n",
       "      <th>3</th>\n",
       "      <td>AdaBoost Regressor</td>\n",
       "      <td>0.9986</td>\n",
       "      <td>7.1776</td>\n",
       "      <td>5.2916</td>\n",
       "    </tr>\n",
       "  </tbody>\n",
       "</table>\n",
       "</div>"
      ],
      "text/plain": [
       "                Model Name  R square value  Root Mean Square Error  \\\n",
       "0        Linear Regression          0.9997                  3.1300   \n",
       "1  Random Forest Regressor          0.9995                  4.2450   \n",
       "2        XGBoost Regressor          0.9991                  5.7356   \n",
       "3       AdaBoost Regressor          0.9986                  7.1776   \n",
       "\n",
       "   Mean Avg.Error  \n",
       "0          1.9250  \n",
       "1          2.6750  \n",
       "2          3.9096  \n",
       "3          5.2916  "
      ]
     },
     "execution_count": 20,
     "metadata": {},
     "output_type": "execute_result"
    }
   ],
   "source": [
    "res"
   ]
  },
  {
   "cell_type": "markdown",
   "metadata": {},
   "source": [
    "# CONCLUSION\n",
    "\n",
    "Best stock price prediction given by Linear Regession model closely followed by Random Forest Regressor.\n"
   ]
  },
  {
   "cell_type": "markdown",
   "metadata": {},
   "source": [
    "# SAVING BEST PREDICTION MODEL TO PICKLE FILE"
   ]
  },
  {
   "cell_type": "markdown",
   "metadata": {},
   "source": [
    "### CHOSEN MODEL - LINEAR REGRESSION"
   ]
  },
  {
   "cell_type": "code",
   "execution_count": 21,
   "metadata": {},
   "outputs": [
    {
     "data": {
      "text/plain": [
       "LinearRegression()"
      ]
     },
     "execution_count": 21,
     "metadata": {},
     "output_type": "execute_result"
    }
   ],
   "source": [
    "model1 = LinearRegression()\n",
    "model1.fit(x,y)"
   ]
  },
  {
   "cell_type": "code",
   "execution_count": 22,
   "metadata": {},
   "outputs": [
    {
     "data": {
      "text/plain": [
       "array([177.87220874, 272.91438131, 127.66363038, 258.55574844,\n",
       "       617.32352985, 178.1703315 , 128.86779996, 258.84339617,\n",
       "       621.21415008, 178.72575936, 274.12321463, 129.99589755,\n",
       "       259.05240076, 606.96565925, 179.00372094, 273.4082286 ,\n",
       "       129.42669567, 256.45745701, 604.84288039, 177.91374913,\n",
       "       131.35944419, 259.3486296 , 615.50956929, 183.37925784,\n",
       "       274.81427855, 131.16680507, 261.17585041, 624.34108213,\n",
       "       190.46762337, 281.49377667, 130.66749273, 260.82149223,\n",
       "       622.57000468, 187.15465584, 281.13101797, 130.53014562,\n",
       "       260.69044997, 620.85965343, 184.10643753, 280.61409121,\n",
       "       130.61056756, 260.91172824, 620.49542518, 181.1203206 ,\n",
       "       280.21659516, 132.7085176 , 265.09743127, 626.31626784,\n",
       "       187.57605127, 133.94965553, 266.3204357 , 647.74477426,\n",
       "       191.11066209, 288.31729089, 133.65141165, 267.61050051,\n",
       "       686.41891465, 193.18889741, 294.36786637, 133.47984023,\n",
       "       266.79677639, 680.35168125, 191.00112684, 290.90153343,\n",
       "       133.74516262, 267.10191814, 681.68613172, 193.1420986 ,\n",
       "       291.80190245, 133.79046825, 267.57569521, 683.97784435,\n",
       "       195.30191512, 292.70966856, 134.63325358, 268.35335997,\n",
       "       687.11067056, 197.8314444 , 293.64182622, 135.6517246 ,\n",
       "       270.63629016, 685.58492727, 199.38235526, 295.02139782,\n",
       "       136.8284066 , 271.26646736, 690.44186793, 201.0373962 ,\n",
       "       292.74213983, 136.25716468, 271.61672614, 683.12569929,\n",
       "       203.24382225, 289.1078429 , 139.35381349, 275.67446438,\n",
       "       689.92283638, 204.72479816, 291.9902573 , 139.47640067,\n",
       "       275.77510697, 681.88682634, 205.00323113, 140.03602535,\n",
       "       275.93787445, 675.25127273, 205.148538  , 292.51234266,\n",
       "       140.89953782, 276.17681271, 668.80809219, 205.46468065,\n",
       "       293.02438872, 142.06441063, 276.70304513, 663.27772745,\n",
       "       206.08618708, 293.57562048, 144.5604995 , 279.30814891,\n",
       "       648.76644526, 205.54982854, 296.33950081, 142.7346279 ,\n",
       "       277.05735866, 638.36375861, 199.85377271, 293.53629415,\n",
       "       144.74607482, 277.52976596, 654.76363237, 199.68239592,\n",
       "       299.21132549, 144.32397902, 277.73857484, 662.44717913,\n",
       "       201.23998305, 300.10836895, 144.30043593, 277.93888813,\n",
       "       670.06960849, 202.79497198, 300.9998654 , 144.87879468,\n",
       "       278.50781227, 678.90155354, 204.5462869 , 301.94054285,\n",
       "       145.77944574, 280.87186379, 678.42468349, 203.28045544,\n",
       "       303.85435893, 149.81814077, 282.64354064, 664.68587236,\n",
       "       199.91793692, 302.91069   , 148.74266037, 281.84660226,\n",
       "       650.20939097, 191.6358863 , 297.4691077 , 147.54435769,\n",
       "       282.00066449, 651.25200845, 184.09773512, 297.74795598,\n",
       "       145.59521521, 280.06567683, 645.55906382, 184.24721978,\n",
       "       296.08620741, 144.07901234, 278.38949386, 640.26106955,\n",
       "       184.42296983, 294.3704792 , 143.18177667, 276.84568555,\n",
       "       635.5661261 , 185.14589038, 292.70095954, 145.09911597,\n",
       "       278.88308115, 652.67575917, 184.62027127, 296.18498048,\n",
       "       145.62263011, 279.8003097 , 660.54038541, 191.91153798,\n",
       "       300.76113339, 147.37496927, 285.93403235, 655.04832724,\n",
       "       195.68150762, 305.41088495, 148.1003705 , 289.10796381,\n",
       "       646.16617672, 194.60906659, 308.35568075, 148.09521601,\n",
       "       288.74940006, 650.54068864, 193.44831231, 308.40069487,\n",
       "       148.44577893, 288.80050664, 655.61549103, 192.53971388,\n",
       "       308.46010548, 149.20453943, 288.79431065, 663.23549189,\n",
       "       191.53757596, 308.59273805, 147.90115172, 285.95887301,\n",
       "       641.91614245, 190.74369933, 299.00975093, 145.55651945,\n",
       "       286.82637196, 650.58386949, 193.01768904, 300.55218988,\n",
       "       145.80377695, 288.66669337, 669.58648234, 196.19012796,\n",
       "       286.11673849, 145.59246991, 286.11275137, 686.99892234,\n",
       "       195.0041755 , 277.54444406, 145.5504508 , 285.81522258,\n",
       "       695.76103768, 195.51101681, 276.23922669, 145.53945916,\n",
       "       285.49844189, 705.53555463, 195.65920584, 274.68736707,\n",
       "       145.98438301, 285.38281916, 717.12515487, 196.27917945,\n",
       "       273.46017057, 146.24856687, 286.26582543, 712.19701571,\n",
       "       196.02859657, 273.10829178, 146.78119422, 286.58204525,\n",
       "       721.47492289, 201.03281206, 274.14365902, 146.88358458,\n",
       "       288.50673342, 721.82098431, 205.99522014, 279.822542  ,\n",
       "       146.20777176, 289.45109368, 708.74837124, 203.98269   ,\n",
       "       280.50188499, 145.88036644, 289.47257766, 710.17858974,\n",
       "       203.68904626, 280.43413123, 145.83613397, 289.63825799,\n",
       "       712.8270317 , 203.48821733, 280.41810931, 146.00751696,\n",
       "       290.03205304, 716.36097603, 203.35318995, 280.42872689,\n",
       "       146.4560696 , 287.16202582, 711.78514042, 200.69065328,\n",
       "       276.18739514, 146.09611276, 287.80337789, 713.16010941,\n",
       "       196.33018649, 276.29208984, 147.62410433, 289.04023391,\n",
       "       713.85040116, 198.47145406, 276.50418711, 149.02367707,\n",
       "       291.96200716, 724.83790812, 201.09520398, 277.40691506,\n",
       "       148.517835  , 291.98658009, 712.06164544, 199.8611077 ,\n",
       "       277.56412487, 148.38620124, 292.18013874, 700.01193868,\n",
       "       198.59004999, 277.79453323, 149.02360488, 292.63839948,\n",
       "       688.96422654, 197.23135015, 278.03233854, 150.58322485,\n",
       "       293.12985424, 659.76453999, 194.8728582 , 272.27961382,\n",
       "       147.67108113, 293.04999112, 686.79897218, 192.71673193,\n",
       "       271.81308883, 146.46021082, 293.61682793, 679.0060161 ,\n",
       "       194.73792096, 270.83487327, 147.70488463, 302.54897129,\n",
       "       687.25937934, 204.95668571, 273.57294897, 147.96909751,\n",
       "       302.94166363, 689.32211295, 208.2909662 , 148.35056416,\n",
       "       303.55994332, 693.57964848, 211.67445127, 275.14901318,\n",
       "       149.19011021, 304.5065259 , 698.6683464 , 215.85946656,\n",
       "       276.94725062, 150.13910058, 304.17827917, 712.56727897,\n",
       "       218.14984972, 279.48457458, 148.83864455, 302.60880826,\n",
       "       715.67264859, 221.98204346, 279.62501205, 148.37940938,\n",
       "       301.26333187, 708.7445085 , 220.68637745, 276.80980878,\n",
       "       147.84051159, 299.36422588, 713.3000194 , 225.59886552,\n",
       "       278.01131465, 148.82230332, 300.82085222, 717.24740961,\n",
       "       226.43233182, 149.82743536, 302.34365403, 721.66025269,\n",
       "       227.52202815, 281.90405044, 151.31325906, 303.77146403,\n",
       "       726.82890948, 228.51670904, 286.09473258, 152.8251577 ,\n",
       "       303.61174155, 737.6663294 , 223.80717406, 288.53607509,\n",
       "       154.03009478, 303.94760412, 741.8400681 , 226.08129356,\n",
       "       289.58374949, 153.54271521, 302.18654008, 740.49180199,\n",
       "       225.18491049, 288.07014871, 154.23174326, 302.36744196,\n",
       "       732.82936447, 226.27587602, 288.87146215, 154.20597543,\n",
       "       301.60708203, 737.83502942, 226.42206479, 289.67986292,\n",
       "       154.58250445, 301.01308596, 743.10729376, 226.73573965,\n",
       "       290.45427448, 155.20821698, 300.52225054, 748.59327641,\n",
       "       227.06566097, 291.22348957, 156.40146798, 300.03326519,\n",
       "       754.51000146, 227.37193881, 292.10733657, 155.04906867,\n",
       "       299.43592952, 752.03542314, 222.35223189, 287.52156691,\n",
       "       154.82220534, 299.52289385, 762.6871034 , 223.9219916 ,\n",
       "       288.52653376, 151.1897554 , 297.82975241, 746.00858355,\n",
       "       225.51336209, 287.27618817, 150.50517274, 297.2528277 ,\n",
       "       737.45995719, 224.27530185, 285.26956848, 150.05874705,\n",
       "       296.72438289, 729.20159725, 223.25721099, 283.36313697,\n",
       "       150.84096482, 296.48173271, 721.83095727, 222.41218018,\n",
       "       281.48591963, 149.90266949, 300.55125012, 748.96655965,\n",
       "       223.17329481, 282.90269685, 148.32340028, 304.7176664 ,\n",
       "       751.37851946, 221.82655553, 283.0825546 , 148.23536099,\n",
       "       303.40848295, 757.9740727 , 221.62797192, 283.96250858,\n",
       "       147.17127501, 301.96702898, 759.87445032, 220.54163092,\n",
       "       279.26934315, 145.66893567, 298.79422053, 750.02203665,\n",
       "       217.02861204, 144.27387855, 295.77485574, 740.12388292,\n",
       "       213.41765247, 274.33140113, 143.35949276, 292.91408356,\n",
       "       731.39952324, 210.00891976, 269.3808216 , 211.73209287,\n",
       "       271.01973559])"
      ]
     },
     "execution_count": 22,
     "metadata": {},
     "output_type": "execute_result"
    }
   ],
   "source": [
    "pred = model1.predict(x_test)\n",
    "pred"
   ]
  },
  {
   "cell_type": "code",
   "execution_count": 23,
   "metadata": {},
   "outputs": [],
   "source": [
    "x = df5[['Year','Month','Day','StockName','Positive','Negative','Neutral']].to_numpy()\n",
    "y = np.array(df5['Close'])"
   ]
  },
  {
   "cell_type": "code",
   "execution_count": 24,
   "metadata": {},
   "outputs": [],
   "source": [
    "import pickle"
   ]
  },
  {
   "cell_type": "code",
   "execution_count": 26,
   "metadata": {},
   "outputs": [],
   "source": [
    "with open('model_pickle','wb') as f:\n",
    "    pickle.dump(model1,f)"
   ]
  },
  {
   "cell_type": "code",
   "execution_count": 27,
   "metadata": {},
   "outputs": [],
   "source": [
    "with open('model_pickle','rb') as f:\n",
    "    mp = pickle.load(f)\n",
    "    "
   ]
  }
 ],
 "metadata": {
  "interpreter": {
   "hash": "8b63279ac8fefb432e475602d0afd7e5f44576dde42a2b22fd677197e80837b9"
  },
  "kernelspec": {
   "display_name": "Python 3",
   "language": "python",
   "name": "python3"
  },
  "language_info": {
   "codemirror_mode": {
    "name": "ipython",
    "version": 3
   },
   "file_extension": ".py",
   "mimetype": "text/x-python",
   "name": "python",
   "nbconvert_exporter": "python",
   "pygments_lexer": "ipython3",
   "version": "3.8.5"
  }
 },
 "nbformat": 4,
 "nbformat_minor": 2
}
